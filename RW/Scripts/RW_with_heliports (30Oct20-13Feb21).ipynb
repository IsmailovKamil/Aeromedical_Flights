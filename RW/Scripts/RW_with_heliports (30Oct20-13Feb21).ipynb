{
 "cells": [
  {
   "cell_type": "code",
   "execution_count": 102,
   "id": "sufficient-nightmare",
   "metadata": {},
   "outputs": [],
   "source": [
    "#load packages\n",
    "import pandas as pd \n",
    "import numpy as np\n",
    "import fuzzymatcher"
   ]
  },
  {
   "cell_type": "code",
   "execution_count": 103,
   "id": "centered-slide",
   "metadata": {},
   "outputs": [],
   "source": [
    "#load data and convert dates to datetime\n",
    "rw = pd.read_csv(\"../Datasets/RW/RW_tail_numbers(converted to min and 24-hour format).csv\", parse_dates=['dates'])\n",
    "rw = rw.rename({'NAME':'medical_service'}, axis=1)\n",
    "\n",
    "# load heliports data\n",
    "heliports = pd.ExcelFile(\"..//Datasets/Airports/Heliports.xlsx\", engine='openpyxl')\n",
    "heliports = heliports.parse(0)[['Loc Id', 'Facility Type', 'State Id', 'County', 'City', 'Name', 'ARP Latitude Sec', 'ARP Longitude Sec']]\n",
    "\n",
    "# load heliports data\n",
    "local_airports = pd.ExcelFile(\"..//Datasets/Airports/local-airport-data.xlsx\", engine='openpyxl')\n",
    "local_airports = local_airports.parse(0)[['Loc Id', 'Facility Type', 'State Id', 'County', 'City', 'Name', 'ARP Latitude Sec', 'ARP Longitude Sec']]"
   ]
  },
  {
   "cell_type": "code",
   "execution_count": 104,
   "id": "hourly-turner",
   "metadata": {},
   "outputs": [],
   "source": [
    "location = pd.concat([heliports,local_airports])"
   ]
  },
  {
   "cell_type": "code",
   "execution_count": 105,
   "id": "driving-eagle",
   "metadata": {},
   "outputs": [],
   "source": [
    "# split origin states\n",
    "rw['origin_state'] = rw.origin.str.split(\", \", n = 1, expand = True)[1]\n",
    "rw.origin = rw.origin.str.split(\", \", n = 1, expand = True)[0]\n",
    "rw = rw.iloc[:,:4].join([rw.iloc[:,-1:],rw.iloc[:,4:-1]])\n",
    "\n",
    "# split destination states\n",
    "rw['destination_state'] = rw.destination.str.split(\", \", n = 1, expand = True)[1]\n",
    "rw.destination = rw.destination.str.split(\", \", n = 1, expand = True)[0]\n",
    "rw = rw.iloc[:,:6].join([rw.iloc[:,-1], rw.iloc[:,6:-1]])"
   ]
  },
  {
   "cell_type": "code",
   "execution_count": 106,
   "id": "comfortable-heating",
   "metadata": {},
   "outputs": [],
   "source": [
    "# replace abbreviations to full name for the best matching\n",
    "rw = rw.replace(regex={r'Muni': 'Municipal', r'Rgnl':'Regional', r'Intl':'International', r\"Int'l\":'International',\n",
    "                 r'Trml':'Terminal', r'Fld':'Field'})\n",
    "\n",
    "location = location.replace(regex={r'Muni': 'Municipal', r'Rgnl':'Regional', r'Intl':'International', r\"Int'l\":'International',\n",
    "                 r'Trml':'Terminal', r'Fld':'Field'})"
   ]
  },
  {
   "cell_type": "code",
   "execution_count": 107,
   "id": "guilty-happiness",
   "metadata": {},
   "outputs": [],
   "source": [
    "# capitalize origin and destination words for the best matching\n",
    "rw.origin = rw.origin.str.upper()\n",
    "rw.destination = rw.destination.str.upper()"
   ]
  },
  {
   "cell_type": "code",
   "execution_count": 108,
   "id": "intensive-spokesman",
   "metadata": {},
   "outputs": [],
   "source": [
    "# add origin information\n",
    "rw = fuzzymatcher.fuzzy_left_join(rw, location.add_suffix('_origin'), left_on = ['origin_state','origin'], \n",
    "                                  right_on = ['State Id_origin', 'City_origin']).iloc[:,3:]"
   ]
  },
  {
   "cell_type": "code",
   "execution_count": 109,
   "id": "spiritual-essay",
   "metadata": {},
   "outputs": [],
   "source": [
    "# add destination information\n",
    "rw = fuzzymatcher.fuzzy_left_join(rw, location.add_suffix('_destination'), left_on = ['destination_state','destination'], \n",
    "                                  right_on = ['State Id_destination', 'City_destination']).iloc[:,3:]"
   ]
  },
  {
   "cell_type": "code",
   "execution_count": 110,
   "id": "freelance-wireless",
   "metadata": {},
   "outputs": [],
   "source": [
    "rw[['ARP Latitude Sec_origin', 'ARP Longitude Sec_origin', 'ARP Latitude Sec_destination', 'ARP Longitude Sec_destination']] = \\\n",
    "rw[['ARP Latitude Sec_origin', 'ARP Longitude Sec_origin', 'ARP Latitude Sec_destination', 'ARP Longitude Sec_destination']] \\\n",
    ".replace(regex={'N':'','W':''}).astype('float')/3600\n",
    "\n",
    "rw[['ARP Longitude Sec_origin', 'ARP Longitude Sec_destination']] = rw[['ARP Longitude Sec_origin', 'ARP Longitude Sec_destination']]*(-1)"
   ]
  },
  {
   "cell_type": "code",
   "execution_count": null,
   "id": "primary-seeker",
   "metadata": {},
   "outputs": [],
   "source": [
    "# check matching by existing states\n",
    "rw['origin_matching'] = np.where((rw['origin_state'].notna()) & (rw['origin_state'] != rw['State Id_origin']), \"don't match\", \"match\")\n",
    "rw['destination_matching'] = np.where((rw['destination_state'].notna()) & (rw['destination_state'] != rw['State Id_destination']), \"don't match\", \"match\")"
   ]
  },
  {
   "cell_type": "code",
   "execution_count": 124,
   "id": "inappropriate-perspective",
   "metadata": {},
   "outputs": [],
   "source": [
    "rw.to_csv('../Datasets/RW/RW_with_heliports.csv', index=False)"
   ]
  },
  {
   "cell_type": "code",
   "execution_count": 118,
   "id": "varied-anthropology",
   "metadata": {},
   "outputs": [
    {
     "name": "stdout",
     "output_type": "stream",
     "text": [
      "<class 'pandas.core.frame.DataFrame'>\n",
      "Int64Index: 125697 entries, 0 to 1656034\n",
      "Data columns (total 30 columns):\n",
      " #   Column                         Non-Null Count   Dtype         \n",
      "---  ------                         --------------   -----         \n",
      " 0   tail_number                    125697 non-null  object        \n",
      " 1   dates                          125697 non-null  datetime64[ns]\n",
      " 2   aircraft                       118770 non-null  object        \n",
      " 3   origin                         125687 non-null  object        \n",
      " 4   origin_state                   58998 non-null   object        \n",
      " 5   destination                    125696 non-null  object        \n",
      " 6   destination_state              49237 non-null   object        \n",
      " 7   departure                      125697 non-null  object        \n",
      " 8   dep_time_zone                  125697 non-null  object        \n",
      " 9   arrival                        125697 non-null  object        \n",
      " 10  arr_time_zone                  125697 non-null  object        \n",
      " 11  duration                       125697 non-null  object        \n",
      " 12  duration_minutes               125697 non-null  int64         \n",
      " 13  medical_service                125697 non-null  object        \n",
      " 14  Loc Id_origin                  121844 non-null  object        \n",
      " 15  Facility Type_origin           121844 non-null  object        \n",
      " 16  State Id_origin                120505 non-null  object        \n",
      " 17  County_origin                  121844 non-null  object        \n",
      " 18  City_origin                    121844 non-null  object        \n",
      " 19  Name_origin                    121844 non-null  object        \n",
      " 20  ARP Latitude Sec_origin        121844 non-null  float64       \n",
      " 21  ARP Longitude Sec_origin       121844 non-null  float64       \n",
      " 22  Loc Id_destination             121064 non-null  object        \n",
      " 23  Facility Type_destination      121064 non-null  object        \n",
      " 24  State Id_destination           119294 non-null  object        \n",
      " 25  County_destination             121064 non-null  object        \n",
      " 26  City_destination               121064 non-null  object        \n",
      " 27  Name_destination               121064 non-null  object        \n",
      " 28  ARP Latitude Sec_destination   121064 non-null  float64       \n",
      " 29  ARP Longitude Sec_destination  121064 non-null  float64       \n",
      "dtypes: datetime64[ns](1), float64(4), int64(1), object(24)\n",
      "memory usage: 29.7+ MB\n"
     ]
    }
   ],
   "source": [
    "rw.info()"
   ]
  },
  {
   "cell_type": "code",
   "execution_count": null,
   "id": "genuine-purple",
   "metadata": {},
   "outputs": [],
   "source": []
  }
 ],
 "metadata": {
  "kernelspec": {
   "display_name": "Python 3",
   "language": "python",
   "name": "python3"
  },
  "language_info": {
   "codemirror_mode": {
    "name": "ipython",
    "version": 3
   },
   "file_extension": ".py",
   "mimetype": "text/x-python",
   "name": "python",
   "nbconvert_exporter": "python",
   "pygments_lexer": "ipython3",
   "version": "3.7.4"
  }
 },
 "nbformat": 4,
 "nbformat_minor": 5
}
