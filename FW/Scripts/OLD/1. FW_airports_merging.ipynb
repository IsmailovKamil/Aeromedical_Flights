{
 "cells": [
  {
   "cell_type": "code",
   "execution_count": 1,
   "metadata": {},
   "outputs": [],
   "source": [
    "#load packages\n",
    "import pandas as pd \n",
    "import numpy as np\n",
    "from geopy import distance\n",
    "from geopy import Point\n",
    "import fuzzymatcher\n",
    "pd.set_option('display.max_columns', 999)"
   ]
  },
  {
   "cell_type": "code",
   "execution_count": 2,
   "metadata": {},
   "outputs": [],
   "source": [
    "# load FW datasets\n",
    "fw = pd.read_csv(\"..//Datasets/NEW/FW_flights.csv\")\n",
    "fw_info = pd.read_csv(\"..//Datasets/NEW/FW_services_info.csv\")\n",
    "\n",
    "# load airport data\n",
    "airports = pd.read_csv(\"..//Datasets/Airports/BTS_Airports_LAT_LON.csv\")\n",
    "airport_codes = pd.read_csv(\"..//Datasets/Airports/airport-codes.csv\")"
   ]
  },
  {
   "cell_type": "code",
   "execution_count": 3,
   "metadata": {},
   "outputs": [
    {
     "name": "stdout",
     "output_type": "stream",
     "text": [
      "<class 'pandas.core.frame.DataFrame'>\n",
      "RangeIndex: 23160 entries, 0 to 23159\n",
      "Data columns (total 10 columns):\n",
      " #   Column                Non-Null Count  Dtype \n",
      "---  ------                --------------  ----- \n",
      " 0   tail_number           23160 non-null  object\n",
      " 1   date                  23160 non-null  object\n",
      " 2   aircraft              23160 non-null  object\n",
      " 3   origin                23160 non-null  object\n",
      " 4   origin_location       23160 non-null  object\n",
      " 5   destination           23159 non-null  object\n",
      " 6   destination_location  23160 non-null  object\n",
      " 7   departure             23160 non-null  object\n",
      " 8   arrival               22734 non-null  object\n",
      " 9   duration              23148 non-null  object\n",
      "dtypes: object(10)\n",
      "memory usage: 1.8+ MB\n"
     ]
    }
   ],
   "source": [
    "fw.info()"
   ]
  },
  {
   "cell_type": "code",
   "execution_count": 4,
   "metadata": {},
   "outputs": [
    {
     "name": "stdout",
     "output_type": "stream",
     "text": [
      "<class 'pandas.core.frame.DataFrame'>\n",
      "RangeIndex: 333 entries, 0 to 332\n",
      "Data columns (total 15 columns):\n",
      " #   Column                  Non-Null Count  Dtype \n",
      "---  ------                  --------------  ----- \n",
      " 0   Tail_number             333 non-null    object\n",
      " 1   Summary                 329 non-null    object\n",
      " 2   Owner                   329 non-null    object\n",
      " 3   Airworthiness_Class     329 non-null    object\n",
      " 4   Serial_Number           329 non-null    object\n",
      " 5   Engine                  329 non-null    object\n",
      " 6   Weight                  329 non-null    object\n",
      " 7   Speed                   329 non-null    object\n",
      " 8   Mode_S_Code             329 non-null    object\n",
      " 9   Status                  329 non-null    object\n",
      " 10  Certificate_Issue_Date  322 non-null    object\n",
      " 11  Airworthiness_Date      312 non-null    object\n",
      " 12  Last_Action_Date        329 non-null    object\n",
      " 13  Expiration              322 non-null    object\n",
      " 14  Registry_Source         329 non-null    object\n",
      "dtypes: object(15)\n",
      "memory usage: 39.1+ KB\n"
     ]
    }
   ],
   "source": [
    "fw_info.info()"
   ]
  },
  {
   "cell_type": "code",
   "execution_count": 5,
   "metadata": {},
   "outputs": [],
   "source": [
    "# add Owner columns\n",
    "fw = fw.merge(fw_info[['Tail_number','Owner']], how='left', left_on='tail_number', right_on='Tail_number').drop('Tail_number', axis=1)"
   ]
  },
  {
   "cell_type": "code",
   "execution_count": 6,
   "metadata": {},
   "outputs": [],
   "source": [
    "# Remove useless words\n",
    "fw = fw.replace(regex={'Near ':'', 'First seen ':'', 'Last seen ':'', 'En Route':None, 'Unknown':None, 'Diverted':None, '¬†':' '})"
   ]
  },
  {
   "cell_type": "code",
   "execution_count": 7,
   "metadata": {},
   "outputs": [
    {
     "data": {
      "text/plain": [
       "0"
      ]
     },
     "execution_count": 7,
     "metadata": {},
     "output_type": "execute_result"
    }
   ],
   "source": [
    "# check for duplicates\n",
    "fw.duplicated().sum()"
   ]
  },
  {
   "cell_type": "code",
   "execution_count": 8,
   "metadata": {},
   "outputs": [
    {
     "data": {
      "text/plain": [
       "tail_number               0\n",
       "date                      0\n",
       "aircraft                194\n",
       "origin                    0\n",
       "origin_location           0\n",
       "destination               1\n",
       "destination_location      1\n",
       "departure                 0\n",
       "arrival                 426\n",
       "duration                449\n",
       "Owner                     0\n",
       "dtype: int64"
      ]
     },
     "execution_count": 8,
     "metadata": {},
     "output_type": "execute_result"
    }
   ],
   "source": [
    "# check for null values\n",
    "fw.isna().sum()"
   ]
  },
  {
   "cell_type": "code",
   "execution_count": 9,
   "metadata": {},
   "outputs": [],
   "source": [
    "# split origin_Latitude and origin_Longitude\n",
    "fw['origin_Latitude'] = fw[fw.origin_location.str.startswith('L ')].origin_location.replace(regex={'L ':''}).str.split(\" \", n = 1, expand = True)[0]\n",
    "fw['origin_Longitude'] = fw[fw.origin_location.str.startswith('L ')].origin_location.replace(regex={'L ':''}).str.split(\" \", n = 1, expand = True)[1]"
   ]
  },
  {
   "cell_type": "code",
   "execution_count": 10,
   "metadata": {},
   "outputs": [],
   "source": [
    "# split destination_Latitude and destination_Longitude\n",
    "fw['destination_Latitude'] = fw[fw.destination_location.str.startswith('L ', na=False)].destination_location.replace(regex={'L ':''}).str.split(\" \", n = 1, expand = True)[0]\n",
    "fw['destination_Longitude'] = fw[fw.destination_location.str.startswith('L ', na=False)].destination_location.replace(regex={'L ':''}).str.split(\" \", n = 1, expand = True)[1]"
   ]
  },
  {
   "cell_type": "code",
   "execution_count": 11,
   "metadata": {},
   "outputs": [],
   "source": [
    "# convert to numeric\n",
    "fw['origin_Latitude'] = pd.to_numeric(fw.origin_Latitude, errors='coerce')\n",
    "fw['origin_Longitude'] = pd.to_numeric(fw.origin_Longitude, errors='coerce')\n",
    "\n",
    "fw['destination_Latitude'] = pd.to_numeric(fw.destination_Latitude, errors='coerce')\n",
    "fw['destination_Longitude'] = pd.to_numeric(fw.destination_Longitude, errors='coerce')"
   ]
  },
  {
   "cell_type": "code",
   "execution_count": 12,
   "metadata": {},
   "outputs": [],
   "source": [
    "# split ICAO_code\n",
    "fw['ICAO_code_origin'] = fw[fw.origin_Latitude.isna()].origin_location.str.rsplit(\" - \", n = 1, expand = True)[1]\n",
    "fw['ICAO_code_destination'] = fw[fw.destination_Latitude.isna()].destination_location.str.rsplit(\" - \", n = 1, expand = True)[1]"
   ]
  },
  {
   "cell_type": "code",
   "execution_count": 13,
   "metadata": {},
   "outputs": [],
   "source": [
    "# replace dual ICAO code\n",
    "fw['spare'] = fw.ICAO_code_origin.str.split(\" / \", expand=True, n=1)[1]\n",
    "fw.loc[:,'ICAO_code_origin'] = fw.ICAO_code_origin.str.split(\" / \", expand=True, n=1)[0]\n",
    "fw.loc[fw.spare.notnull(),'ICAO_code_origin'] = fw.loc[fw.spare.notnull(), 'spare']\n",
    "fw = fw.drop('spare', axis=1)\n",
    "\n",
    "fw['spare'] = fw.ICAO_code_destination.str.split(\" / \", expand=True, n=1)[1]\n",
    "fw.loc[:,'ICAO_code_destination'] = fw.ICAO_code_destination.str.split(\" / \", expand=True, n=1)[0]\n",
    "fw.loc[fw.spare.notnull(),'ICAO_code_destination'] = fw.loc[fw.spare.notnull(), 'spare']\n",
    "fw = fw.drop('spare', axis=1)"
   ]
  },
  {
   "cell_type": "code",
   "execution_count": 14,
   "metadata": {},
   "outputs": [
    {
     "data": {
      "text/plain": [
       "0"
      ]
     },
     "execution_count": 14,
     "metadata": {},
     "output_type": "execute_result"
    }
   ],
   "source": [
    "# check duplicates airport_codes\n",
    "airport_codes.duplicated(subset=['ident']).sum()"
   ]
  },
  {
   "cell_type": "code",
   "execution_count": 15,
   "metadata": {},
   "outputs": [],
   "source": [
    "# split coordinates and convert to numeric\n",
    "airport_codes[\"Latitude\"] = pd.to_numeric(airport_codes.coordinates.str.split(', ', n=1, expand=True)[1])\n",
    "airport_codes[\"Longitude\"] = pd.to_numeric(airport_codes.coordinates.str.split(', ', n=1, expand=True)[0])"
   ]
  },
  {
   "cell_type": "code",
   "execution_count": 16,
   "metadata": {},
   "outputs": [],
   "source": [
    "# merge origin airport information\n",
    "fw = fw.merge(airport_codes[['ident', 'iata_code', 'Latitude', 'Longitude']].add_suffix('_origin'),\n",
    "         how='left', left_on='ICAO_code_origin', right_on='ident_origin')"
   ]
  },
  {
   "cell_type": "code",
   "execution_count": 17,
   "metadata": {},
   "outputs": [],
   "source": [
    "# merge destination airport information\n",
    "fw = fw.merge(airport_codes[['ident', 'iata_code', 'Latitude', 'Longitude']].add_suffix('_destination'),\n",
    "         how='left', left_on='ICAO_code_destination', right_on='ident_destination')"
   ]
  },
  {
   "cell_type": "code",
   "execution_count": 18,
   "metadata": {},
   "outputs": [],
   "source": [
    "# merge the same 2 columns\n",
    "fw.origin_Latitude = fw.origin_Latitude.fillna(0) + fw.Latitude_origin.fillna(0)\n",
    "fw.origin_Longitude = fw.origin_Longitude.fillna(0) + fw.Longitude_origin.fillna(0)\n",
    "\n",
    "fw.destination_Latitude = fw.destination_Latitude.fillna(0) + fw.Latitude_destination.fillna(0)\n",
    "fw.destination_Longitude = fw.destination_Longitude.fillna(0) + fw.Longitude_destination.fillna(0)"
   ]
  },
  {
   "cell_type": "code",
   "execution_count": 19,
   "metadata": {},
   "outputs": [],
   "source": [
    "# drop duplicated columns\n",
    "fw = fw.drop(['ident_origin', 'ident_destination', 'Latitude_origin', 'Longitude_origin', 'Latitude_destination', 'Longitude_destination'], axis=1)"
   ]
  },
  {
   "cell_type": "code",
   "execution_count": 20,
   "metadata": {},
   "outputs": [],
   "source": [
    "# replace abbreviations to full name for the best matching\n",
    "fw = fw.replace(regex={r'Muni': 'Municipal', r'Rgnl':'Regional', r'Intl':'International', r\"Int'l\":'International',\n",
    "                 r'Trml':'Terminal', r'Fld':'Field'})"
   ]
  },
  {
   "cell_type": "code",
   "execution_count": 21,
   "metadata": {},
   "outputs": [],
   "source": [
    "# split states for the best matching\n",
    "fw['origin_state'] = fw.origin.str.split(', ', n=1, expand=True)[1]\n",
    "fw.loc[fw.origin_state.isna(), 'origin_state'] = fw.origin_location.str.split(', ', n=1, expand=True)[1].str.rsplit(') ', n=1, expand=True)[0]\n",
    "\n",
    "fw['destination_state'] = fw.destination.str.split(', ', n=1, expand=True)[1]\n",
    "fw.loc[fw.destination_state.isna(), 'destination_state'] = fw.destination_location.str.split(', ', n=1, expand=True)[1].str.rsplit(') ', n=1, expand=True)[0]"
   ]
  },
  {
   "cell_type": "code",
   "execution_count": 22,
   "metadata": {},
   "outputs": [],
   "source": [
    "# replace location back to NA for the best matching\n",
    "fw.loc[fw.origin_Latitude == 0, 'origin_Latitude'] = np.nan\n",
    "fw.loc[fw.origin_Longitude == 0, 'origin_Longitude'] = np.nan\n",
    "\n",
    "fw.loc[fw.destination_Latitude == 0, 'destination_Latitude'] = np.nan\n",
    "fw.loc[fw.destination_Longitude == 0, 'destination_Longitude'] = np.nan"
   ]
  },
  {
   "cell_type": "code",
   "execution_count": 23,
   "metadata": {},
   "outputs": [],
   "source": [
    "# split cities for the best matching\n",
    "fw['city_origin'] = fw.origin_location.str.rsplit(\" (\", n=1, expand=True)[1].str.split(\")\", n=1, expand=True)[0].str.replace(', ', ' - ')\n",
    "fw.loc[fw.city_origin.isna(), 'city_origin'] = fw.loc[fw.city_origin.isna(), 'origin'].str.replace(', ', ' - ')\n",
    "\n",
    "fw['city_destination'] = fw.destination_location.str.rsplit(\" (\", n=1, expand=True)[1].str.split(\")\", n=1, expand=True)[0].str.replace(', ', ' - ')\n",
    "fw.loc[fw.city_destination.isna(), 'city_destination'] = fw.loc[fw.city_destination.isna(), 'destination'].str.replace(', ', ' - ')"
   ]
  },
  {
   "cell_type": "code",
   "execution_count": 24,
   "metadata": {},
   "outputs": [
    {
     "data": {
      "text/plain": [
       "tail_number                 0\n",
       "date                        0\n",
       "aircraft                  194\n",
       "origin                      0\n",
       "origin_location             0\n",
       "destination                 1\n",
       "destination_location        1\n",
       "departure                   0\n",
       "arrival                   426\n",
       "duration                  449\n",
       "Owner                       0\n",
       "origin_Latitude           666\n",
       "origin_Longitude          666\n",
       "destination_Latitude      626\n",
       "destination_Longitude     626\n",
       "ICAO_code_origin          361\n",
       "ICAO_code_destination     545\n",
       "iata_code_origin         2771\n",
       "iata_code_destination    2828\n",
       "origin_state               35\n",
       "destination_state          36\n",
       "city_origin                 0\n",
       "city_destination            1\n",
       "dtype: int64"
      ]
     },
     "execution_count": 24,
     "metadata": {},
     "output_type": "execute_result"
    }
   ],
   "source": [
    "fw.isna().sum()"
   ]
  },
  {
   "cell_type": "code",
   "execution_count": 25,
   "metadata": {},
   "outputs": [],
   "source": [
    "# drop duplicates\n",
    "airports = airports.drop_duplicates(subset=['AIRPORT_CODE'])"
   ]
  },
  {
   "cell_type": "code",
   "execution_count": 26,
   "metadata": {},
   "outputs": [],
   "source": [
    "# clean CITY_NAME columns\n",
    "airports.loc[airports.CITY_NAME.str.contains('/'), 'CITY_NAME'] = airports.loc[airports.CITY_NAME.str.contains('/'), 'CITY_NAME']\\\n",
    "                                                                          .str.split(\"/\", n=1, expand=True)[0] + ' - ' + airports\\\n",
    "         .loc[airports.CITY_NAME.str.contains('/'), 'CITY_NAME'].str.split(\"/\", n=1, expand=True)[1].str.split(\" - \", n=1, expand=True)[1]"
   ]
  },
  {
   "cell_type": "code",
   "execution_count": 27,
   "metadata": {},
   "outputs": [],
   "source": [
    "# fuzzy merge on locations with origin airports\n",
    "fw = fuzzymatcher.fuzzy_left_join(fw, airports.add_suffix('_origin'), \n",
    "                                  left_on = ['origin_state', 'city_origin', 'origin_Latitude', 'origin_Longitude', 'origin'], \n",
    "                                  right_on = ['STATE_CODE_origin', 'CITY_NAME_origin','LATITUDE_origin', 'LONGITUDE_origin',\n",
    "                                              'AIRPORT_NAME_origin']).iloc[:,3:].reset_index(drop=True)"
   ]
  },
  {
   "cell_type": "code",
   "execution_count": 28,
   "metadata": {},
   "outputs": [],
   "source": [
    "# drop origin_state mismatching\n",
    "fw.loc[(fw.origin_state != fw.STATE_CODE_origin) & (fw.origin_state.notnull()), \n",
    "       ['AIRPORT_CODE_origin', 'AIRPORT_NAME_origin', 'CITY_NAME_origin', 'COUNTRY_NAME_origin', \n",
    "        'STATE_NAME_origin', 'STATE_CODE_origin', 'LATITUDE_origin', 'LONGITUDE_origin']] = np.nan"
   ]
  },
  {
   "cell_type": "code",
   "execution_count": 29,
   "metadata": {},
   "outputs": [],
   "source": [
    "# drop origin_Longitude mistachings\n",
    "fw.loc[(fw.origin_Longitude < 0) & (fw.LONGITUDE_origin > 0),\n",
    "    ['AIRPORT_CODE_origin', 'AIRPORT_NAME_origin', 'CITY_NAME_origin', 'COUNTRY_NAME_origin', \n",
    "        'STATE_NAME_origin', 'STATE_CODE_origin', 'LATITUDE_origin', 'LONGITUDE_origin']] = np.nan"
   ]
  },
  {
   "cell_type": "code",
   "execution_count": 30,
   "metadata": {},
   "outputs": [],
   "source": [
    "# drop city_origin mismatching\n",
    "fw.loc[fw.city_origin != fw.CITY_NAME_origin,\n",
    "    ['AIRPORT_CODE_origin', 'AIRPORT_NAME_origin', 'CITY_NAME_origin', 'COUNTRY_NAME_origin', \n",
    "        'STATE_NAME_origin', 'STATE_CODE_origin', 'LATITUDE_origin', 'LONGITUDE_origin']] = np.nan"
   ]
  },
  {
   "cell_type": "code",
   "execution_count": 31,
   "metadata": {},
   "outputs": [],
   "source": [
    "# replace null values in iata_code_origin\n",
    "fw.loc[fw.iata_code_origin.isna(),'iata_code_origin']  = fw.loc[fw.iata_code_origin.isna(), 'AIRPORT_CODE_origin']"
   ]
  },
  {
   "cell_type": "code",
   "execution_count": 32,
   "metadata": {},
   "outputs": [],
   "source": [
    "# fuzzy merge on locations with destination airports\n",
    "fw = fuzzymatcher.fuzzy_left_join(fw, airports.add_suffix('_destination'), left_on = ['destination_state', 'city_destination', \n",
    "                                                                                      'destination_Latitude', 'destination_Longitude', 'destination'], \n",
    "                                  right_on = ['STATE_CODE_destination', 'CITY_NAME_destination', 'LATITUDE_destination', 'LONGITUDE_destination',\n",
    "                                              'AIRPORT_NAME_destination']).iloc[:,3:].reset_index(drop=True)"
   ]
  },
  {
   "cell_type": "code",
   "execution_count": 33,
   "metadata": {},
   "outputs": [],
   "source": [
    "# drop destination_state mismatching\n",
    "fw.loc[(fw.destination_state != fw.STATE_CODE_destination) & (fw.STATE_CODE_destination.notnull()), \n",
    "       ['AIRPORT_CODE_destination', 'AIRPORT_NAME_destination', 'CITY_NAME_destination', 'COUNTRY_NAME_destination', \n",
    "        'STATE_NAME_destination', 'STATE_CODE_destination', 'LATITUDE_destination', 'LONGITUDE_destination']] = np.nan"
   ]
  },
  {
   "cell_type": "code",
   "execution_count": 34,
   "metadata": {},
   "outputs": [],
   "source": [
    "# drop destination_Longitude mistachings\n",
    "fw.loc[(fw.destination_Longitude < 0) & (fw.LONGITUDE_destination > 0), \n",
    "       ['AIRPORT_CODE_destination', 'AIRPORT_NAME_destination', 'CITY_NAME_destination', 'COUNTRY_NAME_destination', \n",
    "        'STATE_NAME_destination', 'STATE_CODE_destination', 'LATITUDE_destination', 'LONGITUDE_destination']] = np.nan"
   ]
  },
  {
   "cell_type": "code",
   "execution_count": 35,
   "metadata": {},
   "outputs": [],
   "source": [
    "# drop city_destination mismatching\n",
    "fw.loc[(fw.city_destination != fw.CITY_NAME_destination) &(fw.STATE_NAME_destination.notnull()),\n",
    "       ['AIRPORT_CODE_destination', 'AIRPORT_NAME_destination', 'CITY_NAME_destination', 'COUNTRY_NAME_destination', \n",
    "        'STATE_NAME_destination', 'STATE_CODE_destination', 'LATITUDE_destination', 'LONGITUDE_destination']] = np.nan"
   ]
  },
  {
   "cell_type": "code",
   "execution_count": 36,
   "metadata": {},
   "outputs": [],
   "source": [
    "# replace null values in iata_code_destination\n",
    "fw.loc[fw.iata_code_destination.isna(),'iata_code_destination']  = fw.loc[fw.iata_code_destination.isna(), 'AIRPORT_CODE_destination']"
   ]
  },
  {
   "cell_type": "code",
   "execution_count": 37,
   "metadata": {},
   "outputs": [],
   "source": [
    "# replace NA origin_Latitude and origin_Longitude\n",
    "fw.loc[fw.origin_Latitude.isna(),'origin_Latitude'] = fw.loc[fw.origin_Latitude.isna()].origin_Latitude.fillna(0) + fw.LATITUDE_origin\n",
    "fw.loc[fw.origin_Longitude.isna(), 'origin_Longitude'] = fw.loc[fw.origin_Longitude.isna()].origin_Longitude.fillna(0) + fw.LONGITUDE_origin\n",
    "\n",
    "# replace NA destination_Latitude and destination_Longitude\n",
    "fw.loc[fw.destination_Latitude.isna(),'destination_Latitude'] = fw.loc[fw.destination_Latitude.isna()].destination_Latitude.fillna(0) + fw.LATITUDE_destination\n",
    "fw.loc[fw.destination_Longitude.isna(), 'destination_Longitude'] = fw.loc[fw.destination_Longitude.isna()].destination_Longitude.fillna(0) + fw.LONGITUDE_destination"
   ]
  },
  {
   "cell_type": "code",
   "execution_count": 38,
   "metadata": {},
   "outputs": [],
   "source": [
    "# drop duplicated rows\n",
    "fw = fw.drop(['STATE_CODE_origin', 'AIRPORT_CODE_origin', 'LATITUDE_origin', 'LONGITUDE_origin', 'city_origin'], axis=1)\n",
    "fw = fw.drop(['STATE_CODE_destination', 'AIRPORT_CODE_destination', 'LATITUDE_destination', 'LONGITUDE_destination', 'city_destination'], axis=1)"
   ]
  },
  {
   "cell_type": "code",
   "execution_count": 39,
   "metadata": {},
   "outputs": [],
   "source": [
    "# rearrange for convenience\n",
    "fw = fw.iloc[:,:15].join([fw.iloc[:,15], fw.iloc[:,17], fw.iloc[:, 21:25], fw.iloc[:,19],\n",
    "                    fw.iloc[:,16], fw.iloc[:,18], fw.iloc[:, 25:29], fw.iloc[:,20]])"
   ]
  },
  {
   "cell_type": "code",
   "execution_count": 40,
   "metadata": {},
   "outputs": [],
   "source": [
    "# complete origin ICAO codes\n",
    "fw = fw.merge(airport_codes.drop_duplicates(subset=['iata_code'])[['iata_code','ident']], how='left', left_on='iata_code_origin', right_on='iata_code')\n",
    "fw.loc[(fw.ICAO_code_origin.isna()) & (fw.iata_code_origin.notnull()), 'ICAO_code_origin'] = fw.loc[:,'ident']\n",
    "fw = fw.drop(['ident','iata_code'], axis=1)"
   ]
  },
  {
   "cell_type": "code",
   "execution_count": 41,
   "metadata": {},
   "outputs": [],
   "source": [
    "# complete destination ICAO codes\n",
    "fw = fw.merge(airport_codes.drop_duplicates(subset=['iata_code'])[['iata_code','ident']], how='left', left_on='iata_code_destination', right_on='iata_code')\n",
    "fw.loc[(fw.ICAO_code_destination.isna()) & (fw.iata_code_destination.notnull()), 'ICAO_code_destination'] = fw.loc[:,'ident']\n",
    "fw = fw.drop(['ident','iata_code'], axis=1)"
   ]
  },
  {
   "cell_type": "code",
   "execution_count": 42,
   "metadata": {},
   "outputs": [],
   "source": [
    "# calculate the distance\n",
    "for i in range(len(fw)):\n",
    "    try:\n",
    "        p1 = Point(str(fw.origin_Latitude[i]) + ' ' + str(fw.origin_Longitude[i]))\n",
    "        p2 = Point(str(fw.destination_Latitude[i]) + ' ' + str(fw.destination_Longitude[i]))\n",
    "    \n",
    "        fw.loc[i, 'distance_mi'] = distance.distance(p1,p2).miles\n",
    "    except:\n",
    "        pass"
   ]
  },
  {
   "cell_type": "code",
   "execution_count": 43,
   "metadata": {},
   "outputs": [
    {
     "name": "stdout",
     "output_type": "stream",
     "text": [
      "<class 'pandas.core.frame.DataFrame'>\n",
      "Int64Index: 23160 entries, 0 to 23159\n",
      "Data columns (total 30 columns):\n",
      " #   Column                    Non-Null Count  Dtype  \n",
      "---  ------                    --------------  -----  \n",
      " 0   tail_number               23160 non-null  object \n",
      " 1   date                      23160 non-null  object \n",
      " 2   aircraft                  22966 non-null  object \n",
      " 3   origin                    23160 non-null  object \n",
      " 4   origin_location           23160 non-null  object \n",
      " 5   destination               23159 non-null  object \n",
      " 6   destination_location      23159 non-null  object \n",
      " 7   departure                 23160 non-null  object \n",
      " 8   arrival                   22734 non-null  object \n",
      " 9   duration                  22711 non-null  object \n",
      " 10  Owner                     23160 non-null  object \n",
      " 11  origin_Latitude           22773 non-null  float64\n",
      " 12  origin_Longitude          22773 non-null  float64\n",
      " 13  destination_Latitude      22778 non-null  float64\n",
      " 14  destination_Longitude     22778 non-null  float64\n",
      " 15  ICAO_code_origin          23054 non-null  object \n",
      " 16  iata_code_origin          22130 non-null  object \n",
      " 17  AIRPORT_NAME_origin       20533 non-null  object \n",
      " 18  CITY_NAME_origin          20533 non-null  object \n",
      " 19  COUNTRY_NAME_origin       20533 non-null  object \n",
      " 20  STATE_NAME_origin         20533 non-null  object \n",
      " 21  origin_state              23125 non-null  object \n",
      " 22  ICAO_code_destination     23038 non-null  object \n",
      " 23  iata_code_destination     22159 non-null  object \n",
      " 24  AIRPORT_NAME_destination  20730 non-null  object \n",
      " 25  CITY_NAME_destination     20730 non-null  object \n",
      " 26  COUNTRY_NAME_destination  20730 non-null  object \n",
      " 27  STATE_NAME_destination    20562 non-null  object \n",
      " 28  destination_state         23124 non-null  object \n",
      " 29  distance_mi               22396 non-null  float64\n",
      "dtypes: float64(5), object(25)\n",
      "memory usage: 6.1+ MB\n"
     ]
    }
   ],
   "source": [
    "fw.info()"
   ]
  },
  {
   "cell_type": "code",
   "execution_count": 44,
   "metadata": {},
   "outputs": [],
   "source": [
    "# rerarrange\n",
    "fw = fw.iloc[:,:10].join([fw.iloc[:,-1], fw.iloc[:,10:-1]])"
   ]
  },
  {
   "cell_type": "code",
   "execution_count": 45,
   "metadata": {},
   "outputs": [],
   "source": [
    "fw.to_csv('..//Datasets/NEW/FW_with_airports.csv', index=False)"
   ]
  },
  {
   "cell_type": "code",
   "execution_count": null,
   "metadata": {},
   "outputs": [],
   "source": []
  }
 ],
 "metadata": {
  "kernelspec": {
   "display_name": "Python 3",
   "language": "python",
   "name": "python3"
  },
  "language_info": {
   "codemirror_mode": {
    "name": "ipython",
    "version": 3
   },
   "file_extension": ".py",
   "mimetype": "text/x-python",
   "name": "python",
   "nbconvert_exporter": "python",
   "pygments_lexer": "ipython3",
   "version": "3.8.5"
  }
 },
 "nbformat": 4,
 "nbformat_minor": 5
}
