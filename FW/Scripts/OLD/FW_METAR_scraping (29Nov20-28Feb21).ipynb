{
 "cells": [
  {
   "cell_type": "code",
   "execution_count": 1,
   "metadata": {},
   "outputs": [],
   "source": [
    "#load packages\n",
    "import pandas as pd \n",
    "import numpy as np\n",
    "from bs4 import BeautifulSoup as soup\n",
    "from urllib.request import urlopen as uReq"
   ]
  },
  {
   "cell_type": "code",
   "execution_count": 38,
   "metadata": {},
   "outputs": [
    {
     "name": "stdout",
     "output_type": "stream",
     "text": [
      "<class 'pandas.core.frame.DataFrame'>\n",
      "RangeIndex: 23160 entries, 0 to 23159\n",
      "Data columns (total 29 columns):\n",
      " #   Column                    Non-Null Count  Dtype         \n",
      "---  ------                    --------------  -----         \n",
      " 0   tail_number               23160 non-null  object        \n",
      " 1   date                      23160 non-null  datetime64[ns]\n",
      " 2   aircraft                  22966 non-null  object        \n",
      " 3   origin                    23160 non-null  object        \n",
      " 4   origin_location           23160 non-null  object        \n",
      " 5   destination               23159 non-null  object        \n",
      " 6   destination_location      23159 non-null  object        \n",
      " 7   departure                 23160 non-null  object        \n",
      " 8   arrival                   22734 non-null  object        \n",
      " 9   duration                  22711 non-null  object        \n",
      " 10  Owner                     23160 non-null  object        \n",
      " 11  origin_Latitude           23001 non-null  float64       \n",
      " 12  origin_Longitude          23001 non-null  float64       \n",
      " 13  destination_Latitude      23002 non-null  float64       \n",
      " 14  destination_Longitude     23002 non-null  float64       \n",
      " 15  ICAO_code_origin          23108 non-null  object        \n",
      " 16  iata_code_origin          22969 non-null  object        \n",
      " 17  AIRPORT_NAME_origin       22911 non-null  object        \n",
      " 18  CITY_NAME_origin          22911 non-null  object        \n",
      " 19  COUNTRY_NAME_origin       22911 non-null  object        \n",
      " 20  STATE_NAME_origin         22812 non-null  object        \n",
      " 21  origin_state              23125 non-null  object        \n",
      " 22  ICAO_code_destination     23109 non-null  object        \n",
      " 23  iata_code_destination     22966 non-null  object        \n",
      " 24  AIRPORT_NAME_destination  22907 non-null  object        \n",
      " 25  CITY_NAME_destination     22907 non-null  object        \n",
      " 26  COUNTRY_NAME_destination  22907 non-null  object        \n",
      " 27  STATE_NAME_destination    22812 non-null  object        \n",
      " 28  destination_state         23123 non-null  object        \n",
      "dtypes: datetime64[ns](1), float64(4), object(24)\n",
      "memory usage: 5.1+ MB\n"
     ]
    }
   ],
   "source": [
    "#load data and convert dates to datetime\n",
    "fw = pd.read_csv(\"../Datasets/NEW/FW_with_airports.csv\", parse_dates=['date'])\n",
    "fw.info()"
   ]
  },
  {
   "cell_type": "code",
   "execution_count": 43,
   "metadata": {},
   "outputs": [
    {
     "data": {
      "text/html": [
       "<div>\n",
       "<style scoped>\n",
       "    .dataframe tbody tr th:only-of-type {\n",
       "        vertical-align: middle;\n",
       "    }\n",
       "\n",
       "    .dataframe tbody tr th {\n",
       "        vertical-align: top;\n",
       "    }\n",
       "\n",
       "    .dataframe thead th {\n",
       "        text-align: right;\n",
       "    }\n",
       "</style>\n",
       "<table border=\"1\" class=\"dataframe\">\n",
       "  <thead>\n",
       "    <tr style=\"text-align: right;\">\n",
       "      <th></th>\n",
       "      <th>ICAO_code_origin</th>\n",
       "      <th>date</th>\n",
       "      <th>departure</th>\n",
       "    </tr>\n",
       "  </thead>\n",
       "  <tbody>\n",
       "    <tr>\n",
       "      <th>0</th>\n",
       "      <td>KXWA</td>\n",
       "      <td>2021-02-20</td>\n",
       "      <td>04:57PM CST</td>\n",
       "    </tr>\n",
       "    <tr>\n",
       "      <th>1</th>\n",
       "      <td>KBIS</td>\n",
       "      <td>2021-02-20</td>\n",
       "      <td>01:36PM CST</td>\n",
       "    </tr>\n",
       "    <tr>\n",
       "      <th>2</th>\n",
       "      <td>KMOT</td>\n",
       "      <td>2021-02-18</td>\n",
       "      <td>08:20AM CST</td>\n",
       "    </tr>\n",
       "    <tr>\n",
       "      <th>3</th>\n",
       "      <td>KXWA</td>\n",
       "      <td>2021-02-15</td>\n",
       "      <td>02:15PM CST</td>\n",
       "    </tr>\n",
       "    <tr>\n",
       "      <th>4</th>\n",
       "      <td>KMOT</td>\n",
       "      <td>2021-02-15</td>\n",
       "      <td>08:00AM CST</td>\n",
       "    </tr>\n",
       "  </tbody>\n",
       "</table>\n",
       "</div>"
      ],
      "text/plain": [
       "  ICAO_code_origin       date    departure\n",
       "0             KXWA 2021-02-20  04:57PM CST\n",
       "1             KBIS 2021-02-20  01:36PM CST\n",
       "2             KMOT 2021-02-18  08:20AM CST\n",
       "3             KXWA 2021-02-15  02:15PM CST\n",
       "4             KMOT 2021-02-15  08:00AM CST"
      ]
     },
     "execution_count": 43,
     "metadata": {},
     "output_type": "execute_result"
    }
   ],
   "source": [
    "fw_origin = fw.loc[:,['ICAO_code_origin', 'date', 'departure']]\n",
    "fw_origin.head()"
   ]
  },
  {
   "cell_type": "code",
   "execution_count": 3,
   "metadata": {},
   "outputs": [
    {
     "data": {
      "text/plain": [
       "1372"
      ]
     },
     "execution_count": 3,
     "metadata": {},
     "output_type": "execute_result"
    }
   ],
   "source": [
    "ICAO_origin = set(fw.ICAO_code_origin.dropna())\n",
    "len(ICAO_origin)"
   ]
  },
  {
   "cell_type": "code",
   "execution_count": null,
   "metadata": {},
   "outputs": [],
   "source": [
    "ICAO_origin"
   ]
  },
  {
   "cell_type": "code",
   "execution_count": 107,
   "metadata": {},
   "outputs": [],
   "source": [
    "url = 'http://www.ogimet.com/display_stations.php?lang=en&tipo=AND&isyn=&oaci=&nombre=&estado=&Send=Send'"
   ]
  },
  {
   "cell_type": "code",
   "execution_count": 108,
   "metadata": {},
   "outputs": [],
   "source": [
    "# BeautifulSoup Magic\n",
    "uClient = uReq(url)\n",
    "page_html = uClient.read()\n",
    "uClient.close()"
   ]
  },
  {
   "cell_type": "code",
   "execution_count": 109,
   "metadata": {},
   "outputs": [],
   "source": [
    "page_soup = soup(page_html, 'html.parser')\n",
    "codes = page_soup.findAll(\"a\", {\"onmouseout\":\" return nd();\"})"
   ]
  },
  {
   "cell_type": "code",
   "execution_count": 112,
   "metadata": {},
   "outputs": [],
   "source": [
    "ICAO = []\n",
    "\n",
    "for i in range(len(codes)):\n",
    "    ICAO += codes[i]"
   ]
  },
  {
   "cell_type": "code",
   "execution_count": 113,
   "metadata": {},
   "outputs": [],
   "source": [
    "origin_ICAO = []\n",
    "\n",
    "for i in range(len(codes)):\n",
    "    if ICAO[i] in ICAO_origin:\n",
    "        origin_ICAO += [ICAO[i]]"
   ]
  },
  {
   "cell_type": "code",
   "execution_count": null,
   "metadata": {},
   "outputs": [],
   "source": [
    "url_2 = \"http://www.ogimet.com/display_metars2.php?lang=en&lugar=\"\n",
    "months = ['&tipo=ALL&ord=REV&nil=SI&fmt=html&ano=2021&mes=02&day=01&hora=23&anof=2021&mesf=02&dayf=28&horaf=23&minf=59&send=send', \n",
    "          '&tipo=ALL&ord=REV&nil=SI&fmt=html&ano=2021&mes=01&day=01&hora=23&anof=2021&mesf=01&dayf=31&horaf=23&minf=59&send=send',\n",
    "         '&tipo=ALL&ord=REV&nil=SI&fmt=html&ano=2020&mes=12&day=01&hora=23&anof=2020&mesf=12&dayf=31&horaf=23&minf=59&send=send',\n",
    "         '&tipo=ALL&ord=REV&nil=SI&fmt=html&ano=2020&mes=11&day=01&hora=23&anof=2020&mesf=11&dayf=30&horaf=23&minf=59&send=send']\n",
    "date = []\n",
    "METAR = []\n",
    "ICAO_origin = []\n",
    "\n",
    "for x in origin_ICAO:\n",
    "    for j in months:\n",
    "        url = url_2 + x + j\n",
    "        uClient = uReq(url)\n",
    "        page_html = uClient.read()\n",
    "        uClient.close()\n",
    "        page_soup = soup(page_html, 'html.parser')\n",
    "    \n",
    "        for i in range(len(page_soup.findAll(\"tr\", {\"bgcolor\":[\"#F0F0D0\",'white']}))):\n",
    "            ICAO_origin += [x]\n",
    "            date += page_soup.findAll(\"tr\", {\"bgcolor\":[\"#F0F0D0\",'white']})[i].findAll('td')[1]\n",
    "            METAR += [page_soup.findAll(\"tr\", {\"bgcolor\":[\"#F0F0D0\",'white']})[i].findAll('td')[2].text]"
   ]
  },
  {
   "cell_type": "code",
   "execution_count": null,
   "metadata": {},
   "outputs": [],
   "source": [
    "METAR"
   ]
  },
  {
   "cell_type": "code",
   "execution_count": null,
   "metadata": {},
   "outputs": [],
   "source": []
  }
 ],
 "metadata": {
  "kernelspec": {
   "display_name": "Python 3",
   "language": "python",
   "name": "python3"
  },
  "language_info": {
   "codemirror_mode": {
    "name": "ipython",
    "version": 3
   },
   "file_extension": ".py",
   "mimetype": "text/x-python",
   "name": "python",
   "nbconvert_exporter": "python",
   "pygments_lexer": "ipython3",
   "version": "3.8.5"
  }
 },
 "nbformat": 4,
 "nbformat_minor": 5
}
