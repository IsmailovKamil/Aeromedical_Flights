{
 "cells": [
  {
   "cell_type": "code",
   "execution_count": 2,
   "metadata": {},
   "outputs": [],
   "source": [
    "# install and load packages\n",
    "import pandas as pd\n",
    "import mechanize\n",
    "from http.cookiejar import CookieJar\n",
    "from bs4 import BeautifulSoup as soup\n",
    "import html2text\n",
    "import os\n",
    "import glob"
   ]
  },
  {
   "cell_type": "code",
   "execution_count": 5,
   "metadata": {},
   "outputs": [],
   "source": [
    "# Load xlsx dataset\n",
    "Fixed = pd.ExcelFile(\"..//Datasets/NEW/TailNumber_RW_FW_030921.xlsx\", engine='openpyxl')"
   ]
  },
  {
   "cell_type": "code",
   "execution_count": 6,
   "metadata": {},
   "outputs": [
    {
     "data": {
      "text/plain": [
       "['FW', 'RW']"
      ]
     },
     "execution_count": 6,
     "metadata": {},
     "output_type": "execute_result"
    }
   ],
   "source": [
    "# excel content\n",
    "Fixed.sheet_names"
   ]
  },
  {
   "cell_type": "code",
   "execution_count": 7,
   "metadata": {},
   "outputs": [
    {
     "data": {
      "text/plain": [
       "333"
      ]
     },
     "execution_count": 7,
     "metadata": {},
     "output_type": "execute_result"
    }
   ],
   "source": [
    "# Extract \"Data\" sheet\n",
    "FW = Fixed.parse(0)\n",
    "\n",
    "# Extract tail numbers\n",
    "tails = list(FW.Tail_Num_FW.drop_duplicates().dropna().str.replace(' ', '', regex=True))\n",
    "len(tails)"
   ]
  },
  {
   "cell_type": "code",
   "execution_count": 13,
   "metadata": {},
   "outputs": [
    {
     "data": {
      "text/plain": [
       "'N149CF'"
      ]
     },
     "execution_count": 13,
     "metadata": {},
     "output_type": "execute_result"
    }
   ],
   "source": [
    "tails[1]"
   ]
  },
  {
   "cell_type": "code",
   "execution_count": null,
   "metadata": {},
   "outputs": [],
   "source": [
    "# login to the website\n",
    "# Browser\n",
    "br = mechanize.Browser()\n",
    "\n",
    "# Cookie Jar\n",
    "cj = CookieJar()\n",
    "br.set_cookiejar(cj)\n",
    "\n",
    "# Browser options\n",
    "br.set_handle_equiv(True)\n",
    "br.set_handle_gzip(True)\n",
    "br.set_handle_redirect(True)\n",
    "br.set_handle_referer(True)\n",
    "br.set_handle_robots(False)\n",
    "br.set_handle_refresh(mechanize._http.HTTPRefreshProcessor(), max_time=1)\n",
    "\n",
    "br.addheaders = [('User-agent', 'Chrome')]\n",
    "\n",
    "# The site we will navigate into, handling it's session\n",
    "br.open('https://flightaware.com/account/session')\n",
    "\n",
    "# View available forms\n",
    "for f in br.forms():\n",
    "    print (f)\n",
    "\n",
    "# Select the second (index one) form (the first form is a search query box)\n",
    "br.select_form(nr=7)\n",
    "\n",
    "# User credentials\n",
    "br.form[\"flightaware_username\"] = 'kismailo'\n",
    "br.form['flightaware_password'] = 'gwynbleidd'\n",
    "\n",
    "# Login\n",
    "br.submit()"
   ]
  },
  {
   "cell_type": "code",
   "execution_count": 176,
   "metadata": {},
   "outputs": [],
   "source": [
    "tail_number = []\n",
    "date = []\n",
    "aircraft = []\n",
    "origin = []\n",
    "origin_location = []\n",
    "destination = []\n",
    "destination_location = []\n",
    "departure = []\n",
    "arrival = []\n",
    "duration = []\n",
    "\n",
    "for t in tails:\n",
    "    url = 'https://flightaware.com/live/flight/' + t + '/history/320'\n",
    "    page_html = br.open(url).read()\n",
    "    page_soup = soup(page_html, 'html.parser')\n",
    "    table = page_soup.findAll(\"tr\", {\"class\":[\"smallActiverow1 rowClickTarget\", \"smallActiverow2 rowClickTarget\"]})\n",
    "\n",
    "    for i in range(0,len(table)):\n",
    "        tail_number += [t]\n",
    "        date += table[i].find_all(\"td\")[0].a\n",
    "        aircraft += [table[i].find_all(\"td\")[1].text]\n",
    "        origin += [table[i].find_all(\"td\")[2].text]\n",
    "        if len(table[i].find_all(\"td\")[2].text) != 0:\n",
    "            origin_location += [table[i].find_all(\"td\")[2].span['title']]\n",
    "        else:\n",
    "            origin_location += [\"Unknown\"]\n",
    "        destination += [table[i].find_all(\"td\")[3].text]\n",
    "        if len(table[i].find_all(\"td\")[3].text) != 0:\n",
    "            destination_location += [table[i].find_all(\"td\")[3].span['title']]\n",
    "        else:\n",
    "            destination_location += [\"Unknown\"]\n",
    "        departure += [table[i].find_all(\"td\")[4].text]\n",
    "        arrival += [table[i].find_all(\"td\")[5].text]\n",
    "        duration += [table[i].find_all(\"td\")[6].text]  \n",
    "            \n",
    "flight_data = pd.DataFrame(list(zip(tail_number, date, aircraft, origin, origin_location, destination, destination_location, departure, arrival, duration)), \n",
    "                    columns=['tail_number','date', 'aircraft', 'origin', 'origin_location', 'destination', 'destination_location', 'departure', 'arrival', 'duration'])"
   ]
  },
  {
   "cell_type": "code",
   "execution_count": 178,
   "metadata": {},
   "outputs": [],
   "source": [
    "# merge names, and export data\n",
    "flight_data.to_csv('..//Datasets/FW_flights.csv', index=False)"
   ]
  },
  {
   "cell_type": "code",
   "execution_count": 170,
   "metadata": {},
   "outputs": [],
   "source": [
    "Tail_number = []\n",
    "Summary = []\n",
    "Owner = []\n",
    "Airworthiness_Class = []\n",
    "Serial_Number = []\n",
    "Engine = []\n",
    "Weight = []\n",
    "Speed = []\n",
    "Mode_S_Code = []\n",
    "Status = []\n",
    "Certificate_Issue_Date = []\n",
    "Airworthiness_Date = []\n",
    "Last_Action_Date = []\n",
    "Expiration = []\n",
    "Registry_Source = []\n",
    "\n",
    "for t in tails:\n",
    "    url_2 = 'https://flightaware.com/resources/registration/' + t\n",
    "    page_html_2 = br.open(url_2).read()\n",
    "    page_soup_2 = soup(page_html_2, 'html.parser')\n",
    "    table_2 = page_soup_2.findAll(\"div\", {\"class\":\"medium-3 columns\"})\n",
    "    \n",
    "    if len(table_2) != 0: \n",
    "        Tail_number += [t]\n",
    "        Summary += [table_2[0].text.replace('\\n', '').replace('\\t', '')]\n",
    "        Owner += [table_2[1].text.replace('\\n', '').replace('\\t', '')]\n",
    "        Airworthiness_Class += [table_2[2].text]\n",
    "        Serial_Number += [table_2[3].text]\n",
    "        Engine += [table_2[4].text.replace(' ', '')]\n",
    "        Weight += [table_2[5].text]\n",
    "        Speed += [table_2[6].text]\n",
    "        Mode_S_Code += [table_2[7].text]\n",
    "        Status += [table_2[8].text]\n",
    "        Certificate_Issue_Date += [table_2[9].text]\n",
    "        Airworthiness_Date += [table_2[10].text]\n",
    "        Last_Action_Date += [table_2[11].text]\n",
    "        Expiration += [table_2[12].text]\n",
    "        Registry_Source += [table_2[13].text] \n",
    "    else:\n",
    "        Tail_number += [t]\n",
    "        Summary += [None]\n",
    "        Owner += [None]\n",
    "        Airworthiness_Class += [None]\n",
    "        Serial_Number += [None]\n",
    "        Engine += [None]\n",
    "        Weight += [None]\n",
    "        Speed += [None]\n",
    "        Mode_S_Code += [None]\n",
    "        Status += [None]\n",
    "        Certificate_Issue_Date += [None]\n",
    "        Airworthiness_Date += [None]\n",
    "        Last_Action_Date += [None]\n",
    "        Expiration += [None]\n",
    "        Registry_Source += [None]"
   ]
  },
  {
   "cell_type": "code",
   "execution_count": 174,
   "metadata": {},
   "outputs": [],
   "source": [
    "services_data = pd.DataFrame(list(zip(Tail_number,Summary,Owner,Airworthiness_Class,Serial_Number,Engine,Weight,Speed,Mode_S_Code,Status,\n",
    "                      Certificate_Issue_Date,Airworthiness_Date,Last_Action_Date,Expiration,Registry_Source)),\n",
    "            columns=['Tail_number','Summary','Owner','Airworthiness_Class','Serial_Number','Engine','Weight', \n",
    "                     'Speed','Mode_S_Code','Status','Certificate_Issue_Date','Airworthiness_Date', 'Last_Action_Date',\n",
    "                    'Expiration','Registry_Source'])"
   ]
  },
  {
   "cell_type": "code",
   "execution_count": 175,
   "metadata": {},
   "outputs": [],
   "source": [
    "services_data.to_csv('..//Datasets/FW_services_info.csv', index=False)"
   ]
  },
  {
   "cell_type": "code",
   "execution_count": 296,
   "metadata": {},
   "outputs": [],
   "source": [
    "# # tail number web scraping\n",
    "# def tail_numbers(tail):\n",
    "#     tail_number = []\n",
    "#     date = []\n",
    "#     aircraft = []\n",
    "#     origin = []\n",
    "#     origin_location = []\n",
    "#     destination = []\n",
    "#     destination_location = []\n",
    "#     departure = []\n",
    "#     arrival = []\n",
    "#     duration = []\n",
    "\n",
    "#     for t in tail:\n",
    "#         url = 'https://flightaware.com/live/flight/' + t + '/history/320'\n",
    "#         page_html = br.open(url).read()\n",
    "#         page_soup = soup(page_html, 'html.parser')\n",
    "#         table = page_soup.findAll(\"tr\", {\"class\":[\"smallActiverow1 rowClickTarget\", \"smallActiverow2 rowClickTarget\"]})\n",
    "\n",
    "#         for i in range(0,len(table)):\n",
    "#             tail_number += [t]\n",
    "#             date += table[i].find_all(\"td\")[0].a\n",
    "#             aircraft += [table[i].find_all(\"td\")[1].text]\n",
    "#             origin += [table[i].find_all(\"td\")[2].text]\n",
    "#             origin_location += [table[i].find_all(\"td\")[2].span['title']]\n",
    "#             destination += [table[3].find_all(\"td\")[3].text]\n",
    "#             destination_location += [table[i].find_all(\"td\")[3].span['title']]\n",
    "#             departure += [table[i].find_all(\"td\")[4].text]\n",
    "#             arrival += [table[i].find_all(\"td\")[5].text]\n",
    "#             duration += [table[i].find_all(\"td\")[6].text]  \n",
    "            \n",
    "#             date += table[i].find_all(\"td\")[0].a\n",
    "#             aircraft += table[i].find_all(\"td\")[1]\n",
    "#             origin += table[i].find_all(\"td\")[2].span\n",
    "#             if len(table[i].find_all(\"td\")[3]) != 0:\n",
    "#                 destination += table[i].find_all(\"td\")[3].span\n",
    "#             if len(table[i].find_all(\"td\")[3]) == 0:\n",
    "#                 destination += [\"Unknown\"]\n",
    "#             if len(table[i].find_all(\"td\")[4]) == 1:\n",
    "#                 departure += [table[i].find_all(\"td\")[4].em]\n",
    "#             if len(table[i].find_all(\"td\")[4]) == 2:\n",
    "#                 departure += [table[i].find_all(\"td\")[4]]\n",
    "#             if table[i].find_all(\"td\")[5].em != 'NoneType':\n",
    "#                 arrival += [table[i].find_all(\"td\")[5]]\n",
    "#             if table[i].find_all(\"td\")[5].em == 'NoneType':\n",
    "#                 arrival += table[i].find_all(\"td\")[5].em\n",
    "#             duration += table[i].find_all(\"td\")[6]\n",
    "\n",
    "#     data = pd.DataFrame(list(zip(tail_number, dates, aircraft, origin, origin_location, destination, destination_location, departure, arrival, duration)), \n",
    "#                     columns=['tailnumber','dates', 'aircraft', 'origin', 'origin_location', 'destination', 'destination_location', 'departure', 'arrival', 'duration'])\n",
    "#     return(data)"
   ]
  },
  {
   "cell_type": "code",
   "execution_count": null,
   "metadata": {},
   "outputs": [],
   "source": [
    "# # apply function\n",
    "# data = tail_numbers(tails)"
   ]
  }
 ],
 "metadata": {
  "kernelspec": {
   "display_name": "Python 3",
   "language": "python",
   "name": "python3"
  },
  "language_info": {
   "codemirror_mode": {
    "name": "ipython",
    "version": 3
   },
   "file_extension": ".py",
   "mimetype": "text/x-python",
   "name": "python",
   "nbconvert_exporter": "python",
   "pygments_lexer": "ipython3",
   "version": "3.8.5"
  }
 },
 "nbformat": 4,
 "nbformat_minor": 4
}
