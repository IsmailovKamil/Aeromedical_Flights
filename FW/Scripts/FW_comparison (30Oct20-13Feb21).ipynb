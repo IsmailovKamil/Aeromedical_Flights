{
 "cells": [
  {
   "cell_type": "code",
   "execution_count": 2,
   "metadata": {},
   "outputs": [],
   "source": [
    "#load packages\n",
    "import pandas as pd\n",
    "from openpyxl import load_workbook"
   ]
  },
  {
   "cell_type": "code",
   "execution_count": 3,
   "metadata": {},
   "outputs": [],
   "source": [
    "#load data and convert dates to datetime\n",
    "fw = pd.read_csv(\"../Datasets/FW/FW_tail_numbers(cleaned).csv\", encoding='latin-1', parse_dates=['dates'])\n",
    "\n",
    "# Load xlsx dataset\n",
    "Fixed = pd.ExcelFile(\"..//Datasets/FW/FixedWing_021021_(modified).xlsx\", engine='openpyxl')\n",
    "\n",
    "# Extract \"Data\" sheet\n",
    "FW = Fixed.parse(0)"
   ]
  },
  {
   "cell_type": "code",
   "execution_count": 4,
   "metadata": {},
   "outputs": [],
   "source": [
    "merged = FW.merge(fw, left_on='Tail_number', right_on='tail_number', how='left')"
   ]
  },
  {
   "cell_type": "code",
   "execution_count": 9,
   "metadata": {},
   "outputs": [
    {
     "name": "stdout",
     "output_type": "stream",
     "text": [
      "108 out of 210\n"
     ]
    }
   ],
   "source": [
    "# total amount of missing tail number \n",
    "print(merged.tail_number.isna().sum(), \"out of\", merged.Tail_number.nunique())"
   ]
  },
  {
   "cell_type": "code",
   "execution_count": 10,
   "metadata": {},
   "outputs": [
    {
     "name": "stdout",
     "output_type": "stream",
     "text": [
      "51.43 % of tail numbers have no data in FlightAware\n"
     ]
    }
   ],
   "source": [
    "# in percents \n",
    "print(round(merged.tail_number.isna().sum()/merged.Tail_number.nunique() * 100,2), \"% of tail numbers have no data in FlightAware\")"
   ]
  },
  {
   "cell_type": "code",
   "execution_count": 7,
   "metadata": {},
   "outputs": [
    {
     "data": {
      "text/html": [
       "<div>\n",
       "<style scoped>\n",
       "    .dataframe tbody tr th:only-of-type {\n",
       "        vertical-align: middle;\n",
       "    }\n",
       "\n",
       "    .dataframe tbody tr th {\n",
       "        vertical-align: top;\n",
       "    }\n",
       "\n",
       "    .dataframe thead th {\n",
       "        text-align: right;\n",
       "    }\n",
       "</style>\n",
       "<table border=\"1\" class=\"dataframe\">\n",
       "  <thead>\n",
       "    <tr style=\"text-align: right;\">\n",
       "      <th></th>\n",
       "      <th>Tail_number</th>\n",
       "      <th>NAME</th>\n",
       "    </tr>\n",
       "  </thead>\n",
       "  <tbody>\n",
       "    <tr>\n",
       "      <th>0</th>\n",
       "      <td>N231WM</td>\n",
       "      <td>A DAVTIAN MD MEDICAL SERVICES INC DBA         ...</td>\n",
       "    </tr>\n",
       "    <tr>\n",
       "      <th>159</th>\n",
       "      <td>N236AT</td>\n",
       "      <td>AIR AMBULANCE BY AIR TREK INC                 ...</td>\n",
       "    </tr>\n",
       "    <tr>\n",
       "      <th>160</th>\n",
       "      <td>N414RM</td>\n",
       "      <td>AIR AMBULANCE BY AIR TREK INC                 ...</td>\n",
       "    </tr>\n",
       "    <tr>\n",
       "      <th>161</th>\n",
       "      <td>N658AT</td>\n",
       "      <td>AIR AMBULANCE BY AIR TREK INC                 ...</td>\n",
       "    </tr>\n",
       "    <tr>\n",
       "      <th>162</th>\n",
       "      <td>N622AT</td>\n",
       "      <td>AIR AMBULANCE BY AIR TREK INC                 ...</td>\n",
       "    </tr>\n",
       "  </tbody>\n",
       "</table>\n",
       "</div>"
      ],
      "text/plain": [
       "    Tail_number                                               NAME\n",
       "0        N231WM  A DAVTIAN MD MEDICAL SERVICES INC DBA         ...\n",
       "159      N236AT  AIR AMBULANCE BY AIR TREK INC                 ...\n",
       "160      N414RM  AIR AMBULANCE BY AIR TREK INC                 ...\n",
       "161      N658AT  AIR AMBULANCE BY AIR TREK INC                 ...\n",
       "162      N622AT  AIR AMBULANCE BY AIR TREK INC                 ..."
      ]
     },
     "execution_count": 7,
     "metadata": {},
     "output_type": "execute_result"
    }
   ],
   "source": [
    "# indicate all missing tail numbers\n",
    "absent_tails = merged[merged.tail_number.isna()].iloc[:,[0,7]].rename({'NAME_x':'NAME'}, axis=1)\n",
    "absent_tails.head()"
   ]
  },
  {
   "cell_type": "code",
   "execution_count": 8,
   "metadata": {},
   "outputs": [],
   "source": [
    "# Write to the existing file\n",
    "book = load_workbook('..//Datasets/FW/FW_stats.xlsx')\n",
    "writer = pd.ExcelWriter('..//Datasets/FW/FW_stats.xlsx', engine='openpyxl')\n",
    "writer.book = book\n",
    "\n",
    "# Write each dataframe to a different worksheet.\n",
    "absent_tails.to_excel(writer, sheet_name='absent_tails', index=False)\n",
    "\n",
    "# Close the Pandas Excel writer and output the Excel file.\n",
    "writer.save()"
   ]
  },
  {
   "cell_type": "code",
   "execution_count": null,
   "metadata": {},
   "outputs": [],
   "source": []
  }
 ],
 "metadata": {
  "kernelspec": {
   "display_name": "Python 3",
   "language": "python",
   "name": "python3"
  },
  "language_info": {
   "codemirror_mode": {
    "name": "ipython",
    "version": 3
   },
   "file_extension": ".py",
   "mimetype": "text/x-python",
   "name": "python",
   "nbconvert_exporter": "python",
   "pygments_lexer": "ipython3",
   "version": "3.7.4"
  }
 },
 "nbformat": 4,
 "nbformat_minor": 4
}
