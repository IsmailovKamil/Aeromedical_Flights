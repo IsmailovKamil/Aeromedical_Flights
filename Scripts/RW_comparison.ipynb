{
 "cells": [
  {
   "cell_type": "code",
   "execution_count": 10,
   "metadata": {},
   "outputs": [],
   "source": [
    "#load packages\n",
    "import pandas as pd \n",
    "from openpyxl import load_workbook"
   ]
  },
  {
   "cell_type": "code",
   "execution_count": 2,
   "metadata": {},
   "outputs": [],
   "source": [
    "#load data and convert dates to datetime\n",
    "rw = pd.read_csv(\"../Datasets/RW/RW_tail_numbers(cleaned).csv\", encoding='latin-1', parse_dates=['dates'])\n",
    "\n",
    "# Load xlsx dataset\n",
    "RotaryWing = pd.ExcelFile(\"..//Datasets/RW/RotaryWing_021021_(modified).xlsx\", engine='openpyxl')\n",
    "\n",
    "# Extract \"Data\" sheet\n",
    "RW_Only = RotaryWing.parse(2)"
   ]
  },
  {
   "cell_type": "code",
   "execution_count": 3,
   "metadata": {},
   "outputs": [],
   "source": [
    "merged = RW_Only.merge(rw, left_on='TailNumber', right_on='tail_number', how='left')"
   ]
  },
  {
   "cell_type": "code",
   "execution_count": 16,
   "metadata": {},
   "outputs": [
    {
     "name": "stdout",
     "output_type": "stream",
     "text": [
      "157 out of 1043\n"
     ]
    }
   ],
   "source": [
    "# total amount of missing tail number \n",
    "print(merged.tail_number.isna().sum(), \"out of\", merged.TailNumber.nunique())"
   ]
  },
  {
   "cell_type": "code",
   "execution_count": 14,
   "metadata": {},
   "outputs": [
    {
     "name": "stdout",
     "output_type": "stream",
     "text": [
      "15.05 % of tail numbers have no data in FlightAware\n"
     ]
    }
   ],
   "source": [
    "# in percents \n",
    "print(round(merged.tail_number.isna().sum()/merged.TailNumber.nunique() * 100,2), \"% of tail numbers have no data in FlightAware\")"
   ]
  },
  {
   "cell_type": "code",
   "execution_count": 6,
   "metadata": {},
   "outputs": [
    {
     "data": {
      "text/html": [
       "<div>\n",
       "<style scoped>\n",
       "    .dataframe tbody tr th:only-of-type {\n",
       "        vertical-align: middle;\n",
       "    }\n",
       "\n",
       "    .dataframe tbody tr th {\n",
       "        vertical-align: top;\n",
       "    }\n",
       "\n",
       "    .dataframe thead th {\n",
       "        text-align: right;\n",
       "    }\n",
       "</style>\n",
       "<table border=\"1\" class=\"dataframe\">\n",
       "  <thead>\n",
       "    <tr style=\"text-align: right;\">\n",
       "      <th></th>\n",
       "      <th>TailNumber</th>\n",
       "      <th>NAME</th>\n",
       "    </tr>\n",
       "  </thead>\n",
       "  <tbody>\n",
       "    <tr>\n",
       "      <th>0</th>\n",
       "      <td>N919SF</td>\n",
       "      <td>AIR ER LLC                                    ...</td>\n",
       "    </tr>\n",
       "    <tr>\n",
       "      <th>382</th>\n",
       "      <td>N108AE</td>\n",
       "      <td>AIR EVAC EMS INC                              ...</td>\n",
       "    </tr>\n",
       "    <tr>\n",
       "      <th>1266</th>\n",
       "      <td>N139AE</td>\n",
       "      <td>AIR EVAC EMS INC                              ...</td>\n",
       "    </tr>\n",
       "    <tr>\n",
       "      <th>1494</th>\n",
       "      <td>N229AE</td>\n",
       "      <td>AIR EVAC EMS INC                              ...</td>\n",
       "    </tr>\n",
       "    <tr>\n",
       "      <th>2042</th>\n",
       "      <td>N258AE</td>\n",
       "      <td>AIR EVAC EMS INC                              ...</td>\n",
       "    </tr>\n",
       "  </tbody>\n",
       "</table>\n",
       "</div>"
      ],
      "text/plain": [
       "     TailNumber                                               NAME\n",
       "0        N919SF  AIR ER LLC                                    ...\n",
       "382      N108AE  AIR EVAC EMS INC                              ...\n",
       "1266     N139AE  AIR EVAC EMS INC                              ...\n",
       "1494     N229AE  AIR EVAC EMS INC                              ...\n",
       "2042     N258AE  AIR EVAC EMS INC                              ..."
      ]
     },
     "execution_count": 6,
     "metadata": {},
     "output_type": "execute_result"
    }
   ],
   "source": [
    "# indicate all missing tail numbers\n",
    "absent_tails = merged[merged.tail_number.isna()].iloc[:,[1,7]].rename({'NAME_x':'NAME'}, axis=1)\n",
    "absent_tails.head()"
   ]
  },
  {
   "cell_type": "code",
   "execution_count": 13,
   "metadata": {},
   "outputs": [],
   "source": [
    "# Write to the existing file\n",
    "book = load_workbook('..//Datasets/RW/RW_stats.xlsx')\n",
    "writer = pd.ExcelWriter('..//Datasets/RW/RW_stats.xlsx', engine='openpyxl')\n",
    "writer.book = book\n",
    "\n",
    "# Write each dataframe to a different worksheet.\n",
    "absent_tails.to_excel(writer, sheet_name='absent_tails', index=False)\n",
    "\n",
    "# Close the Pandas Excel writer and output the Excel file.\n",
    "writer.save()"
   ]
  },
  {
   "cell_type": "code",
   "execution_count": null,
   "metadata": {},
   "outputs": [],
   "source": []
  }
 ],
 "metadata": {
  "kernelspec": {
   "display_name": "Python 3",
   "language": "python",
   "name": "python3"
  },
  "language_info": {
   "codemirror_mode": {
    "name": "ipython",
    "version": 3
   },
   "file_extension": ".py",
   "mimetype": "text/x-python",
   "name": "python",
   "nbconvert_exporter": "python",
   "pygments_lexer": "ipython3",
   "version": "3.7.4"
  }
 },
 "nbformat": 4,
 "nbformat_minor": 4
}
