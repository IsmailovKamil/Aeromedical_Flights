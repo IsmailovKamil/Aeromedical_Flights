{
 "cells": [
  {
   "cell_type": "code",
   "execution_count": 2,
   "metadata": {},
   "outputs": [],
   "source": [
    "# install and load packages\n",
    "import pandas as pd\n",
    "import mechanize\n",
    "from http.cookiejar import CookieJar\n",
    "from bs4 import BeautifulSoup as soup\n",
    "import html2text"
   ]
  },
  {
   "cell_type": "code",
   "execution_count": 3,
   "metadata": {},
   "outputs": [],
   "source": [
    "# Load xlsx dataset\n",
    "RotaryWing = pd.ExcelFile(\"..//Datasets/RotaryWing_021021_(modified).xlsx\", engine='openpyxl')"
   ]
  },
  {
   "cell_type": "code",
   "execution_count": 33,
   "metadata": {},
   "outputs": [
    {
     "data": {
      "text/plain": [
       "['Sheet2', 'RW', 'RW Only', 'FlightAware']"
      ]
     },
     "execution_count": 33,
     "metadata": {},
     "output_type": "execute_result"
    }
   ],
   "source": [
    "# excel content\n",
    "RotaryWing.sheet_names"
   ]
  },
  {
   "cell_type": "code",
   "execution_count": 4,
   "metadata": {},
   "outputs": [],
   "source": [
    "# Extract \"Data\" sheet\n",
    "RW_Only = RotaryWing.parse(2)\n",
    "\n",
    "# Extract tail numbers\n",
    "tail = RW_Only.TailNumber.to_list()"
   ]
  },
  {
   "cell_type": "code",
   "execution_count": 1,
   "metadata": {},
   "outputs": [
    {
     "name": "stdout",
     "output_type": "stream",
     "text": [
      "<get https://flightaware.com/account/locale_switch.rvt application/x-www-form-urlencoded\n",
      "  <SelectControl(locale=[ar_SA, cs_CZ, de_DE, en_AU, en_CA, en_GB, *en_US, es_ES, es_MX, fi_FI, fr_CA, fr_FR, he_IL, hi_IN, hr_HR, it_IT, ja_JP, ko_KR, pl_PL, pt_BR, pt_PT, ru_RU, tr_TR, zh_CN, zh_HK, zh_TW])>>\n",
      "<get https://flightaware.com/account/locale_switch.rvt application/x-www-form-urlencoded\n",
      "  <SelectControl(locale=[ar_SA, cs_CZ, de_DE, en_AU, en_CA, en_GB, *en_US, es_ES, es_MX, fi_FI, fr_CA, fr_FR, he_IL, hi_IN, hr_HR, it_IT, ja_JP, ko_KR, pl_PL, pt_BR, pt_PT, ru_RU, tr_TR, zh_CN, zh_HK, zh_TW])>>\n",
      "<get https://flightaware.com/ajax/ignoreall/omnisearch/disambiguation.rvt application/x-www-form-urlencoded\n",
      "  <HiddenControl(searchterm=) (readonly)>\n",
      "  <HiddenControl(token=) (readonly)>\n",
      "  <HiddenControl(<None>=) (readonly)>>\n",
      "<GET https://flightaware.com/live/findflight application/x-www-form-urlencoded\n",
      "  <TextControl(origin=)>\n",
      "  <TextControl(destination=)>\n",
      "  <SubmitControl(<None>=) (readonly)>>\n",
      "<GET https://flightaware.com/live/form.rvt application/x-www-form-urlencoded\n",
      "  <TextControl(q=)>\n",
      "  <TextControl(ident_suffix=)>\n",
      "  <HiddenControl(ident_prefix=) (readonly)>\n",
      "  <SubmitControl(<None>=) (readonly)>>\n",
      "<GET https://flightaware.com/live/form.rvt application/x-www-form-urlencoded\n",
      "  <TextControl(ident=)>>\n",
      "<GET https://flightaware.com/live/form.rvt application/x-www-form-urlencoded\n",
      "  <TextControl(airport=)>\n",
      "  <TextControl(airport_name_or_city=)>\n",
      "  <SubmitControl(<None>=) (readonly)>>\n",
      "<myform post https://flightaware.com/account/session application/x-www-form-urlencoded\n",
      "  <HiddenControl(referer=https://flightaware.com/account/session) (readonly)>\n",
      "  <HiddenControl(mode=login) (readonly)>\n",
      "  <TextControl(flightaware_username=)>\n",
      "  <PasswordControl(flightaware_password=)>\n",
      "  <HiddenControl(token=674877990) (readonly)>\n",
      "  <SubmitButtonControl(<None>=) (readonly)>>\n",
      "<myform post https://flightaware.com/account/session application/x-www-form-urlencoded\n",
      "  <HiddenControl(referer=https://flightaware.com/account/session) (readonly)>\n",
      "  <HiddenControl(mode=login) (readonly)>\n",
      "  <TextControl(flightaware_username=)>\n",
      "  <PasswordControl(flightaware_password=)>\n",
      "  <HiddenControl(token=674877990) (readonly)>\n",
      "  <SubmitButtonControl(<None>=) (readonly)>>\n"
     ]
    },
    {
     "data": {
      "text/plain": [
       "<response_seek_wrapper at 0x7f8bef8f57d0 whose wrapped object = <closeable_response at 0x7f8bf20e0d10 whose fp = <mechanize._gzip.UnzipWrapper object at 0x7f8bf20e0a10>>>"
      ]
     },
     "execution_count": 1,
     "metadata": {},
     "output_type": "execute_result"
    }
   ],
   "source": [
    "# login to the website\n",
    "# Browser\n",
    "br = mechanize.Browser()\n",
    "\n",
    "# Cookie Jar\n",
    "cj = CookieJar()\n",
    "br.set_cookiejar(cj)\n",
    "\n",
    "# Browser options\n",
    "br.set_handle_equiv(True)\n",
    "br.set_handle_gzip(True)\n",
    "br.set_handle_redirect(True)\n",
    "br.set_handle_referer(True)\n",
    "br.set_handle_robots(False)\n",
    "br.set_handle_refresh(mechanize._http.HTTPRefreshProcessor(), max_time=1)\n",
    "\n",
    "br.addheaders = [('User-agent', 'Chrome')]\n",
    "\n",
    "# The site we will navigate into, handling it's session\n",
    "br.open('https://flightaware.com/account/session')\n",
    "\n",
    "# View available forms\n",
    "for f in br.forms():\n",
    "    print (f)\n",
    "\n",
    "# Select the second (index one) form (the first form is a search query box)\n",
    "br.select_form(nr=7)\n",
    "\n",
    "# User credentials\n",
    "br.form[\"flightaware_username\"] = 'kismailo'\n",
    "br.form['flightaware_password'] = 'gwynbleidd'\n",
    "\n",
    "# Login\n",
    "br.submit()"
   ]
  },
  {
   "cell_type": "code",
   "execution_count": 236,
   "metadata": {},
   "outputs": [],
   "source": [
    "# tail number web scraping\n",
    "def tail_numbers(tail):\n",
    "    tailnumber = []\n",
    "    dates = []\n",
    "    aircraft = []\n",
    "    origin = []\n",
    "    destination = []\n",
    "    departure = []\n",
    "    arrival = []\n",
    "    duration = []\n",
    "\n",
    "    for t in tail:\n",
    "        url = 'https://flightaware.com/live/flight/' + t + '/history/320'\n",
    "        page_html = br.open(url).read()\n",
    "        page_soup = soup(page_html, 'html.parser')\n",
    "        table = page_soup.findAll(\"tr\", {\"class\":[\"smallActiverow1 rowClickTarget\", \"smallActiverow2 rowClickTarget\"]})\n",
    "\n",
    "        for i in range(0,len(table)):\n",
    "            tailnumber += [t]\n",
    "            dates += table[i].find_all(\"td\")[0].a\n",
    "            aircraft += table[i].find_all(\"td\")[1]\n",
    "            origin += table[i].find_all(\"td\")[2].span\n",
    "            if len(table[i].find_all(\"td\")[3]) != 0:\n",
    "                destination += table[i].find_all(\"td\")[3].span\n",
    "            if len(table[i].find_all(\"td\")[3]) == 0:\n",
    "                destination += [\"Unknown\"]\n",
    "            if len(table[i].find_all(\"td\")[4]) == 1:\n",
    "                departure += [table[i].find_all(\"td\")[4].em]\n",
    "            if len(table[i].find_all(\"td\")[4]) == 2:\n",
    "                departure += [table[i].find_all(\"td\")[4]]\n",
    "            if table[i].find_all(\"td\")[5].em != 'NoneType':\n",
    "                arrival += [table[i].find_all(\"td\")[5]]\n",
    "            if table[i].find_all(\"td\")[5].em == 'NoneType':\n",
    "                arrival += table[i].find_all(\"td\")[5].em\n",
    "            duration += table[i].find_all(\"td\")[6]\n",
    "\n",
    "    data = pd.DataFrame(list(zip(tailnumber, dates, aircraft, origin, destination, departure, arrival, duration)), \n",
    "                    columns=['tailnumber','dates', 'aircraft', 'origin', 'destination', 'departure', 'arrival', 'duration'])\n",
    "    return(data)"
   ]
  },
  {
   "cell_type": "code",
   "execution_count": 225,
   "metadata": {},
   "outputs": [],
   "source": [
    "# apply function\n",
    "data = tail_numbers(tail)"
   ]
  },
  {
   "cell_type": "code",
   "execution_count": null,
   "metadata": {},
   "outputs": [],
   "source": [
    "# merge names, and export data\n",
    "data.merge(RW_Only[['TailNumber','NAME']], left_on='tailnumber', right_on='TailNumber', how='inner') \\\n",
    "    .to_csv(r'..//Datasets/RW_tail_numbers.csv', index=False)"
   ]
  },
  {
   "cell_type": "code",
   "execution_count": null,
   "metadata": {},
   "outputs": [],
   "source": [
    "# BETA version\n",
    "# tailnumber = []\n",
    "# dates = []\n",
    "# aircraft = []\n",
    "# origin = []\n",
    "# destination = []\n",
    "# departure = []\n",
    "# arrival = []\n",
    "# duration = []\n",
    "\n",
    "# for t in tail:\n",
    "#     url = 'https://flightaware.com/live/flight/' + t + '/history/320'\n",
    "#     page_html = br.open(url).read()\n",
    "#     page_soup = soup(page_html, 'html.parser')\n",
    "#     table = page_soup.findAll(\"tr\", {\"class\":[\"smallActiverow1 rowClickTarget\", \"smallActiverow2 rowClickTarget\"]})\n",
    "\n",
    "#     for i in range(0,len(table)):\n",
    "#         tailnumber += [t]\n",
    "#         dates += table[i].find_all(\"td\")[0].a\n",
    "#         aircraft += table[i].find_all(\"td\")[1]\n",
    "#         origin += table[i].find_all(\"td\")[2].span\n",
    "#         destination += table[i].find_all(\"td\")[3].span\n",
    "#         if len(table[i].find_all(\"td\")[4]) == 1:\n",
    "#             departure += [table[i].find_all(\"td\")[4].em]\n",
    "#         if len(table[i].find_all(\"td\")[4]) == 2:\n",
    "#             departure += [table[i].find_all(\"td\")[4]]\n",
    "#         if len(table[i].find_all(\"td\")[5]) == 1:\n",
    "#             arrival += [table[i].find_all(\"td\")[5].em]\n",
    "#         if len(table[i].find_all(\"td\")[5]) == 2:\n",
    "#             arrival += [table[i].find_all(\"td\")[5]]\n",
    "#         duration += table[i].find_all(\"td\")[6]\n",
    "\n",
    "# data = pd.DataFrame(list(zip(tailnumber, dates, aircraft, origin, destination, departure, arrival, duration)), columns=['tailnumber','dates', 'aircraft', 'origin', 'destination', 'departure', 'arrival', 'duration'])"
   ]
  },
  {
   "cell_type": "code",
   "execution_count": 23,
   "metadata": {},
   "outputs": [],
   "source": []
  }
 ],
 "metadata": {
  "kernelspec": {
   "display_name": "Python 3",
   "language": "python",
   "name": "python3"
  },
  "language_info": {
   "codemirror_mode": {
    "name": "ipython",
    "version": 3
   },
   "file_extension": ".py",
   "mimetype": "text/x-python",
   "name": "python",
   "nbconvert_exporter": "python",
   "pygments_lexer": "ipython3",
   "version": "3.7.4"
  }
 },
 "nbformat": 4,
 "nbformat_minor": 4
}
