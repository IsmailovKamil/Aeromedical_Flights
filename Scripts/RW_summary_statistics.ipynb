{
 "cells": [
  {
   "cell_type": "markdown",
   "metadata": {},
   "source": [
    "## Summary Statistics\n",
    "---\n",
    "Data cleaning and transformation"
   ]
  },
  {
   "cell_type": "code",
   "execution_count": 1,
   "metadata": {},
   "outputs": [],
   "source": [
    "#load packages\n",
    "import pandas as pd\n",
    "import xlsxwriter\n",
    "import matplotlib.pyplot as plt"
   ]
  },
  {
   "cell_type": "code",
   "execution_count": 2,
   "metadata": {},
   "outputs": [],
   "source": [
    "#load data and convert dates to datetime\n",
    "rw = pd.read_csv(\"..//Datasets/RW/RW_tail_numbers(cleaned).csv\", encoding='latin-1', parse_dates=['dates'])"
   ]
  },
  {
   "cell_type": "code",
   "execution_count": 3,
   "metadata": {},
   "outputs": [
    {
     "name": "stdout",
     "output_type": "stream",
     "text": [
      "<class 'pandas.core.frame.DataFrame'>\n",
      "RangeIndex: 140845 entries, 0 to 140844\n",
      "Data columns (total 9 columns):\n",
      " #   Column       Non-Null Count   Dtype         \n",
      "---  ------       --------------   -----         \n",
      " 0   tail_number  140845 non-null  object        \n",
      " 1   dates        140845 non-null  datetime64[ns]\n",
      " 2   aircraft     133203 non-null  object        \n",
      " 3   origin       140834 non-null  object        \n",
      " 4   destination  140841 non-null  object        \n",
      " 5   departure    140845 non-null  object        \n",
      " 6   arrival      140676 non-null  object        \n",
      " 7   duration     140641 non-null  object        \n",
      " 8   NAME         140845 non-null  object        \n",
      "dtypes: datetime64[ns](1), object(8)\n",
      "memory usage: 9.7+ MB\n"
     ]
    }
   ],
   "source": [
    "#inspect data\n",
    "rw.info()"
   ]
  },
  {
   "cell_type": "code",
   "execution_count": 4,
   "metadata": {},
   "outputs": [
    {
     "data": {
      "text/html": [
       "<div>\n",
       "<style scoped>\n",
       "    .dataframe tbody tr th:only-of-type {\n",
       "        vertical-align: middle;\n",
       "    }\n",
       "\n",
       "    .dataframe tbody tr th {\n",
       "        vertical-align: top;\n",
       "    }\n",
       "\n",
       "    .dataframe thead th {\n",
       "        text-align: right;\n",
       "    }\n",
       "</style>\n",
       "<table border=\"1\" class=\"dataframe\">\n",
       "  <thead>\n",
       "    <tr style=\"text-align: right;\">\n",
       "      <th></th>\n",
       "      <th>tail_number</th>\n",
       "      <th>dates</th>\n",
       "      <th>aircraft</th>\n",
       "      <th>origin</th>\n",
       "      <th>destination</th>\n",
       "      <th>departure</th>\n",
       "      <th>arrival</th>\n",
       "      <th>duration</th>\n",
       "      <th>NAME</th>\n",
       "    </tr>\n",
       "  </thead>\n",
       "  <tbody>\n",
       "    <tr>\n",
       "      <th>0</th>\n",
       "      <td>N101AE</td>\n",
       "      <td>2021-02-07</td>\n",
       "      <td>B06</td>\n",
       "      <td>Near Terre Haute, IN</td>\n",
       "      <td>Near Bloomington, IN</td>\n",
       "      <td>07:12AM EST</td>\n",
       "      <td>09:14AM EST</td>\n",
       "      <td>2:01</td>\n",
       "      <td>AIR EVAC EMS INC                              ...</td>\n",
       "    </tr>\n",
       "    <tr>\n",
       "      <th>1</th>\n",
       "      <td>N101AE</td>\n",
       "      <td>2021-02-05</td>\n",
       "      <td>B06</td>\n",
       "      <td>Cooper</td>\n",
       "      <td>Near Indianapolis, IN</td>\n",
       "      <td>07:35PM EST</td>\n",
       "      <td>08:28PM EST</td>\n",
       "      <td>0:52</td>\n",
       "      <td>AIR EVAC EMS INC                              ...</td>\n",
       "    </tr>\n",
       "    <tr>\n",
       "      <th>2</th>\n",
       "      <td>N101AE</td>\n",
       "      <td>2021-02-05</td>\n",
       "      <td>B06</td>\n",
       "      <td>Near Indianapolis, IN</td>\n",
       "      <td>Indianapolis Intl</td>\n",
       "      <td>01:02PM EST</td>\n",
       "      <td>01:08PM EST</td>\n",
       "      <td>0:05</td>\n",
       "      <td>AIR EVAC EMS INC                              ...</td>\n",
       "    </tr>\n",
       "    <tr>\n",
       "      <th>3</th>\n",
       "      <td>N101AE</td>\n",
       "      <td>2021-02-02</td>\n",
       "      <td>B06</td>\n",
       "      <td>Near Indianapolis, IN</td>\n",
       "      <td>Marcidale</td>\n",
       "      <td>03:54PM EST</td>\n",
       "      <td>04:56PM EST</td>\n",
       "      <td>1:01</td>\n",
       "      <td>AIR EVAC EMS INC                              ...</td>\n",
       "    </tr>\n",
       "    <tr>\n",
       "      <th>4</th>\n",
       "      <td>N101AE</td>\n",
       "      <td>2021-01-23</td>\n",
       "      <td>B06</td>\n",
       "      <td>Frasca Fld</td>\n",
       "      <td>Near ChampaignUrbana, IL</td>\n",
       "      <td>09:31PM CST</td>\n",
       "      <td>09:38PM CST</td>\n",
       "      <td>0:06</td>\n",
       "      <td>AIR EVAC EMS INC                              ...</td>\n",
       "    </tr>\n",
       "  </tbody>\n",
       "</table>\n",
       "</div>"
      ],
      "text/plain": [
       "  tail_number      dates aircraft                 origin  \\\n",
       "0      N101AE 2021-02-07      B06   Near Terre Haute, IN   \n",
       "1      N101AE 2021-02-05      B06                 Cooper   \n",
       "2      N101AE 2021-02-05      B06  Near Indianapolis, IN   \n",
       "3      N101AE 2021-02-02      B06  Near Indianapolis, IN   \n",
       "4      N101AE 2021-01-23      B06             Frasca Fld   \n",
       "\n",
       "                destination    departure      arrival duration  \\\n",
       "0      Near Bloomington, IN  07:12AM EST  09:14AM EST     2:01   \n",
       "1     Near Indianapolis, IN  07:35PM EST  08:28PM EST     0:52   \n",
       "2         Indianapolis Intl  01:02PM EST  01:08PM EST     0:05   \n",
       "3                 Marcidale  03:54PM EST  04:56PM EST     1:01   \n",
       "4  Near ChampaignUrbana, IL  09:31PM CST  09:38PM CST     0:06   \n",
       "\n",
       "                                                NAME  \n",
       "0  AIR EVAC EMS INC                              ...  \n",
       "1  AIR EVAC EMS INC                              ...  \n",
       "2  AIR EVAC EMS INC                              ...  \n",
       "3  AIR EVAC EMS INC                              ...  \n",
       "4  AIR EVAC EMS INC                              ...  "
      ]
     },
     "execution_count": 4,
     "metadata": {},
     "output_type": "execute_result"
    }
   ],
   "source": [
    "#glimpse to data \n",
    "rw.head()"
   ]
  },
  {
   "cell_type": "code",
   "execution_count": 5,
   "metadata": {},
   "outputs": [
    {
     "data": {
      "text/plain": [
       "tail_number       0\n",
       "dates             0\n",
       "aircraft       7642\n",
       "origin           11\n",
       "destination       4\n",
       "departure         0\n",
       "arrival         169\n",
       "duration        204\n",
       "NAME              0\n",
       "dtype: int64"
      ]
     },
     "execution_count": 5,
     "metadata": {},
     "output_type": "execute_result"
    }
   ],
   "source": [
    "#chech for null values\n",
    "rw.isna().sum()"
   ]
  },
  {
   "cell_type": "code",
   "execution_count": 6,
   "metadata": {},
   "outputs": [],
   "source": [
    "#the null duration indicates that the flight was canceled or diverted. So, let's remove it \n",
    "rw = rw.dropna(subset=['duration'])"
   ]
  },
  {
   "cell_type": "code",
   "execution_count": 7,
   "metadata": {},
   "outputs": [],
   "source": [
    "# convert duration to minutes and add a new column \n",
    "rw['duration_minutes'] = pd.to_datetime(rw.duration, format=\"%H:%M\").dt.hour * 60 + pd.to_datetime(rw.duration, format=\"%H:%M\").dt.minute\n",
    "\n",
    "# convert duration to the H:M format\n",
    "rw.duration = pd.to_datetime(rw.duration, format=\"%H:%M\").dt.time\n",
    "\n",
    "#rearrange data for the convenience\n",
    "rw = rw.iloc[:,:8].join([rw.iloc[:,-1], rw.loc[:,'NAME']])"
   ]
  },
  {
   "cell_type": "code",
   "execution_count": 8,
   "metadata": {},
   "outputs": [
    {
     "data": {
      "text/html": [
       "<div>\n",
       "<style scoped>\n",
       "    .dataframe tbody tr th:only-of-type {\n",
       "        vertical-align: middle;\n",
       "    }\n",
       "\n",
       "    .dataframe tbody tr th {\n",
       "        vertical-align: top;\n",
       "    }\n",
       "\n",
       "    .dataframe thead th {\n",
       "        text-align: right;\n",
       "    }\n",
       "</style>\n",
       "<table border=\"1\" class=\"dataframe\">\n",
       "  <thead>\n",
       "    <tr style=\"text-align: right;\">\n",
       "      <th></th>\n",
       "      <th>tail_number</th>\n",
       "      <th>dates</th>\n",
       "      <th>aircraft</th>\n",
       "      <th>origin</th>\n",
       "      <th>destination</th>\n",
       "      <th>departure</th>\n",
       "      <th>arrival</th>\n",
       "      <th>duration</th>\n",
       "      <th>duration_minutes</th>\n",
       "      <th>NAME</th>\n",
       "    </tr>\n",
       "  </thead>\n",
       "  <tbody>\n",
       "    <tr>\n",
       "      <th>0</th>\n",
       "      <td>N101AE</td>\n",
       "      <td>2021-02-07</td>\n",
       "      <td>B06</td>\n",
       "      <td>Near Terre Haute, IN</td>\n",
       "      <td>Near Bloomington, IN</td>\n",
       "      <td>07:12AM EST</td>\n",
       "      <td>09:14AM EST</td>\n",
       "      <td>02:01:00</td>\n",
       "      <td>121</td>\n",
       "      <td>AIR EVAC EMS INC                              ...</td>\n",
       "    </tr>\n",
       "    <tr>\n",
       "      <th>1</th>\n",
       "      <td>N101AE</td>\n",
       "      <td>2021-02-05</td>\n",
       "      <td>B06</td>\n",
       "      <td>Cooper</td>\n",
       "      <td>Near Indianapolis, IN</td>\n",
       "      <td>07:35PM EST</td>\n",
       "      <td>08:28PM EST</td>\n",
       "      <td>00:52:00</td>\n",
       "      <td>52</td>\n",
       "      <td>AIR EVAC EMS INC                              ...</td>\n",
       "    </tr>\n",
       "    <tr>\n",
       "      <th>2</th>\n",
       "      <td>N101AE</td>\n",
       "      <td>2021-02-05</td>\n",
       "      <td>B06</td>\n",
       "      <td>Near Indianapolis, IN</td>\n",
       "      <td>Indianapolis Intl</td>\n",
       "      <td>01:02PM EST</td>\n",
       "      <td>01:08PM EST</td>\n",
       "      <td>00:05:00</td>\n",
       "      <td>5</td>\n",
       "      <td>AIR EVAC EMS INC                              ...</td>\n",
       "    </tr>\n",
       "    <tr>\n",
       "      <th>3</th>\n",
       "      <td>N101AE</td>\n",
       "      <td>2021-02-02</td>\n",
       "      <td>B06</td>\n",
       "      <td>Near Indianapolis, IN</td>\n",
       "      <td>Marcidale</td>\n",
       "      <td>03:54PM EST</td>\n",
       "      <td>04:56PM EST</td>\n",
       "      <td>01:01:00</td>\n",
       "      <td>61</td>\n",
       "      <td>AIR EVAC EMS INC                              ...</td>\n",
       "    </tr>\n",
       "    <tr>\n",
       "      <th>4</th>\n",
       "      <td>N101AE</td>\n",
       "      <td>2021-01-23</td>\n",
       "      <td>B06</td>\n",
       "      <td>Frasca Fld</td>\n",
       "      <td>Near ChampaignUrbana, IL</td>\n",
       "      <td>09:31PM CST</td>\n",
       "      <td>09:38PM CST</td>\n",
       "      <td>00:06:00</td>\n",
       "      <td>6</td>\n",
       "      <td>AIR EVAC EMS INC                              ...</td>\n",
       "    </tr>\n",
       "  </tbody>\n",
       "</table>\n",
       "</div>"
      ],
      "text/plain": [
       "  tail_number      dates aircraft                 origin  \\\n",
       "0      N101AE 2021-02-07      B06   Near Terre Haute, IN   \n",
       "1      N101AE 2021-02-05      B06                 Cooper   \n",
       "2      N101AE 2021-02-05      B06  Near Indianapolis, IN   \n",
       "3      N101AE 2021-02-02      B06  Near Indianapolis, IN   \n",
       "4      N101AE 2021-01-23      B06             Frasca Fld   \n",
       "\n",
       "                destination    departure      arrival  duration  \\\n",
       "0      Near Bloomington, IN  07:12AM EST  09:14AM EST  02:01:00   \n",
       "1     Near Indianapolis, IN  07:35PM EST  08:28PM EST  00:52:00   \n",
       "2         Indianapolis Intl  01:02PM EST  01:08PM EST  00:05:00   \n",
       "3                 Marcidale  03:54PM EST  04:56PM EST  01:01:00   \n",
       "4  Near ChampaignUrbana, IL  09:31PM CST  09:38PM CST  00:06:00   \n",
       "\n",
       "   duration_minutes                                               NAME  \n",
       "0               121  AIR EVAC EMS INC                              ...  \n",
       "1                52  AIR EVAC EMS INC                              ...  \n",
       "2                 5  AIR EVAC EMS INC                              ...  \n",
       "3                61  AIR EVAC EMS INC                              ...  \n",
       "4                 6  AIR EVAC EMS INC                              ...  "
      ]
     },
     "execution_count": 8,
     "metadata": {},
     "output_type": "execute_result"
    }
   ],
   "source": [
    "!!!# let's consider flights which more or equal 5 minutes. We don't think that flight that less than 5 minutes has any sense.\n",
    "rw = rw.query(\"duration_minutes >= 5\")\n",
    "rw.head()"
   ]
  },
  {
   "cell_type": "markdown",
   "metadata": {},
   "source": [
    "### Summary statistics"
   ]
  },
  {
   "cell_type": "code",
   "execution_count": 9,
   "metadata": {},
   "outputs": [],
   "source": [
    "# total number of flights by each service and its tail number \n",
    "total_flights = pd.DataFrame(rw.groupby(\"NAME\").tail_number.value_counts()).rename({'tail_number':'Number of Flights'}, axis=1)\n",
    "\n",
    "# Average Flights per Day\n",
    "avg_total_flights = pd.Series(rw.groupby(\"NAME\").tail_number.value_counts().sort_index() / rw.groupby(['NAME','tail_number']).dates.nunique(), name='Average Flights per Day')"
   ]
  },
  {
   "cell_type": "code",
   "execution_count": 10,
   "metadata": {},
   "outputs": [],
   "source": [
    "stats = rw.groupby([\"NAME\", 'tail_number']).duration_minutes.agg(['sum','mean', 'median', 'max', 'min'])\\\n",
    "          .rename({'sum':'Total Duration(min)', 'mean':'Average Duration(min)', 'median':'Median Duration(min)', 'max':'MAX Duration(min)', 'min':'MIN Duration(min)'}, axis=1)"
   ]
  },
  {
   "cell_type": "code",
   "execution_count": 11,
   "metadata": {},
   "outputs": [
    {
     "data": {
      "text/html": [
       "<div>\n",
       "<style scoped>\n",
       "    .dataframe tbody tr th:only-of-type {\n",
       "        vertical-align: middle;\n",
       "    }\n",
       "\n",
       "    .dataframe tbody tr th {\n",
       "        vertical-align: top;\n",
       "    }\n",
       "\n",
       "    .dataframe thead th {\n",
       "        text-align: right;\n",
       "    }\n",
       "</style>\n",
       "<table border=\"1\" class=\"dataframe\">\n",
       "  <thead>\n",
       "    <tr style=\"text-align: right;\">\n",
       "      <th></th>\n",
       "      <th></th>\n",
       "      <th>Number of Flights</th>\n",
       "      <th>Average Flights per Day</th>\n",
       "      <th>Total Duration(min)</th>\n",
       "      <th>Average Duration(min)</th>\n",
       "      <th>Median Duration(min)</th>\n",
       "      <th>MAX Duration(min)</th>\n",
       "      <th>MIN Duration(min)</th>\n",
       "    </tr>\n",
       "    <tr>\n",
       "      <th>NAME</th>\n",
       "      <th>tail_number</th>\n",
       "      <th></th>\n",
       "      <th></th>\n",
       "      <th></th>\n",
       "      <th></th>\n",
       "      <th></th>\n",
       "      <th></th>\n",
       "      <th></th>\n",
       "    </tr>\n",
       "  </thead>\n",
       "  <tbody>\n",
       "    <tr>\n",
       "      <th rowspan=\"5\" valign=\"top\">AIR EVAC EMS INC</th>\n",
       "      <th>N652AE</th>\n",
       "      <td>201</td>\n",
       "      <td>3.092308</td>\n",
       "      <td>8684</td>\n",
       "      <td>43.203980</td>\n",
       "      <td>17.0</td>\n",
       "      <td>296</td>\n",
       "      <td>5</td>\n",
       "    </tr>\n",
       "    <tr>\n",
       "      <th>N336AE</th>\n",
       "      <td>195</td>\n",
       "      <td>2.635135</td>\n",
       "      <td>13812</td>\n",
       "      <td>70.830769</td>\n",
       "      <td>72.0</td>\n",
       "      <td>313</td>\n",
       "      <td>5</td>\n",
       "    </tr>\n",
       "    <tr>\n",
       "      <th>N96AE</th>\n",
       "      <td>195</td>\n",
       "      <td>3.000000</td>\n",
       "      <td>7791</td>\n",
       "      <td>39.953846</td>\n",
       "      <td>26.0</td>\n",
       "      <td>216</td>\n",
       "      <td>5</td>\n",
       "    </tr>\n",
       "    <tr>\n",
       "      <th>N103AE</th>\n",
       "      <td>184</td>\n",
       "      <td>2.666667</td>\n",
       "      <td>11640</td>\n",
       "      <td>63.260870</td>\n",
       "      <td>58.5</td>\n",
       "      <td>276</td>\n",
       "      <td>5</td>\n",
       "    </tr>\n",
       "    <tr>\n",
       "      <th>N395AE</th>\n",
       "      <td>181</td>\n",
       "      <td>2.623188</td>\n",
       "      <td>12087</td>\n",
       "      <td>66.779006</td>\n",
       "      <td>52.0</td>\n",
       "      <td>349</td>\n",
       "      <td>5</td>\n",
       "    </tr>\n",
       "  </tbody>\n",
       "</table>\n",
       "</div>"
      ],
      "text/plain": [
       "                                                                Number of Flights  \\\n",
       "NAME                                               tail_number                      \n",
       "AIR EVAC EMS INC                                   N652AE                     201   \n",
       "                                                   N336AE                     195   \n",
       "                                                   N96AE                      195   \n",
       "                                                   N103AE                     184   \n",
       "                                                   N395AE                     181   \n",
       "\n",
       "                                                                Average Flights per Day  \\\n",
       "NAME                                               tail_number                            \n",
       "AIR EVAC EMS INC                                   N652AE                      3.092308   \n",
       "                                                   N336AE                      2.635135   \n",
       "                                                   N96AE                       3.000000   \n",
       "                                                   N103AE                      2.666667   \n",
       "                                                   N395AE                      2.623188   \n",
       "\n",
       "                                                                Total Duration(min)  \\\n",
       "NAME                                               tail_number                        \n",
       "AIR EVAC EMS INC                                   N652AE                      8684   \n",
       "                                                   N336AE                     13812   \n",
       "                                                   N96AE                       7791   \n",
       "                                                   N103AE                     11640   \n",
       "                                                   N395AE                     12087   \n",
       "\n",
       "                                                                Average Duration(min)  \\\n",
       "NAME                                               tail_number                          \n",
       "AIR EVAC EMS INC                                   N652AE                   43.203980   \n",
       "                                                   N336AE                   70.830769   \n",
       "                                                   N96AE                    39.953846   \n",
       "                                                   N103AE                   63.260870   \n",
       "                                                   N395AE                   66.779006   \n",
       "\n",
       "                                                                Median Duration(min)  \\\n",
       "NAME                                               tail_number                         \n",
       "AIR EVAC EMS INC                                   N652AE                       17.0   \n",
       "                                                   N336AE                       72.0   \n",
       "                                                   N96AE                        26.0   \n",
       "                                                   N103AE                       58.5   \n",
       "                                                   N395AE                       52.0   \n",
       "\n",
       "                                                                MAX Duration(min)  \\\n",
       "NAME                                               tail_number                      \n",
       "AIR EVAC EMS INC                                   N652AE                     296   \n",
       "                                                   N336AE                     313   \n",
       "                                                   N96AE                      216   \n",
       "                                                   N103AE                     276   \n",
       "                                                   N395AE                     349   \n",
       "\n",
       "                                                                MIN Duration(min)  \n",
       "NAME                                               tail_number                     \n",
       "AIR EVAC EMS INC                                   N652AE                       5  \n",
       "                                                   N336AE                       5  \n",
       "                                                   N96AE                        5  \n",
       "                                                   N103AE                       5  \n",
       "                                                   N395AE                       5  "
      ]
     },
     "execution_count": 11,
     "metadata": {},
     "output_type": "execute_result"
    }
   ],
   "source": [
    "#total summary statistics \n",
    "total_stats = total_flights.join([avg_total_flights, stats])\n",
    "total_stats.head()"
   ]
  },
  {
   "cell_type": "code",
   "execution_count": 12,
   "metadata": {},
   "outputs": [
    {
     "data": {
      "text/html": [
       "<div>\n",
       "<style scoped>\n",
       "    .dataframe tbody tr th:only-of-type {\n",
       "        vertical-align: middle;\n",
       "    }\n",
       "\n",
       "    .dataframe tbody tr th {\n",
       "        vertical-align: top;\n",
       "    }\n",
       "\n",
       "    .dataframe thead th {\n",
       "        text-align: right;\n",
       "    }\n",
       "</style>\n",
       "<table border=\"1\" class=\"dataframe\">\n",
       "  <thead>\n",
       "    <tr style=\"text-align: right;\">\n",
       "      <th></th>\n",
       "      <th></th>\n",
       "      <th></th>\n",
       "      <th>Number of Flights</th>\n",
       "    </tr>\n",
       "    <tr>\n",
       "      <th>NAME</th>\n",
       "      <th>tail_number</th>\n",
       "      <th>origin</th>\n",
       "      <th></th>\n",
       "    </tr>\n",
       "  </thead>\n",
       "  <tbody>\n",
       "    <tr>\n",
       "      <th rowspan=\"5\" valign=\"top\">AIR EVAC EMS INC</th>\n",
       "      <th rowspan=\"5\" valign=\"top\">N101AE</th>\n",
       "      <th>Near Indianapolis, IN</th>\n",
       "      <td>13</td>\n",
       "    </tr>\n",
       "    <tr>\n",
       "      <th>Near Terre Haute, IN</th>\n",
       "      <td>7</td>\n",
       "    </tr>\n",
       "    <tr>\n",
       "      <th>Near Sullivan, IN</th>\n",
       "      <td>6</td>\n",
       "    </tr>\n",
       "    <tr>\n",
       "      <th>Cooper</th>\n",
       "      <td>2</td>\n",
       "    </tr>\n",
       "    <tr>\n",
       "      <th>Near Greencastle, IN</th>\n",
       "      <td>2</td>\n",
       "    </tr>\n",
       "  </tbody>\n",
       "</table>\n",
       "</div>"
      ],
      "text/plain": [
       "                                                                                      Number of Flights\n",
       "NAME                                               tail_number origin                                  \n",
       "AIR EVAC EMS INC                                   N101AE      Near Indianapolis, IN                 13\n",
       "                                                               Near Terre Haute, IN                   7\n",
       "                                                               Near Sullivan, IN                      6\n",
       "                                                               Cooper                                 2\n",
       "                                                               Near Greencastle, IN                   2"
      ]
     },
     "execution_count": 12,
     "metadata": {},
     "output_type": "execute_result"
    }
   ],
   "source": [
    "# Origins (where does the flight start each time)\n",
    "Origins = pd.DataFrame(rw.groupby(['NAME', 'tail_number']).origin.value_counts()).rename({'origin':'Number of Flights'}, axis=1)\n",
    "Origins.head()"
   ]
  },
  {
   "cell_type": "code",
   "execution_count": 13,
   "metadata": {},
   "outputs": [],
   "source": [
    "# Create a Pandas Excel writer using XlsxWriter as the engine.\n",
    "writer = pd.ExcelWriter('..//Datasets/RW/RW_stats.xlsx', engine='xlsxwriter')\n",
    "\n",
    "# Write each dataframe to a different worksheet.\n",
    "total_stats.to_excel(writer, sheet_name='stats')\n",
    "Origins.to_excel(writer, sheet_name='origin')\n",
    "\n",
    "# Close the Pandas Excel writer and output the Excel file.\n",
    "writer.save()"
   ]
  },
  {
   "cell_type": "markdown",
   "metadata": {},
   "source": [
    "## Time Series Analysis\n",
    "---\n",
    "Data cleaning and transformation"
   ]
  },
  {
   "cell_type": "code",
   "execution_count": 14,
   "metadata": {},
   "outputs": [],
   "source": [
    "# split time zone and assign to new variable for arrival\n",
    "rw['arr_time_zone'] = rw.arrival.str.split(\" \", n = 1, expand = True)[1]\n",
    "\n",
    "# remove time zome from arrival\n",
    "rw.arrival = rw.arrival.str.split(\" \", n = 1, expand = True)[0]\n",
    "\n",
    "# rearrange data for the convenience \n",
    "rw = rw.iloc[:,:7].join([rw.iloc[:,-1], rw.iloc[:,7:10]])"
   ]
  },
  {
   "cell_type": "code",
   "execution_count": 15,
   "metadata": {},
   "outputs": [],
   "source": [
    "# split time zone and assign to new variable for departure\n",
    "rw['dep_time_zone'] = rw.departure.str.split(\" \", n = 1, expand = True)[1]\n",
    "\n",
    "# remove time zome from departure\n",
    "rw.departure = rw.departure.str.split(\" \", n = 1, expand = True)[0]\n",
    "\n",
    "# rearrange data for the convenience \n",
    "rw = rw.iloc[:,:6].join([rw.iloc[:,-1], rw.iloc[:,6:11]])"
   ]
  },
  {
   "cell_type": "code",
   "execution_count": 16,
   "metadata": {},
   "outputs": [],
   "source": [
    "# convert departure time to the 24-format \n",
    "# rw.departure = pd.to_datetime(rw.departure).dt.strftime('%H:%M')\n",
    "\n",
    "# convert arrival time to the 24-format \n",
    "# rw.arrival = pd.to_datetime(rw.arrival, errors='coerce').dt.strftime('%H:%M')"
   ]
  },
  {
   "cell_type": "code",
   "execution_count": 17,
   "metadata": {},
   "outputs": [],
   "source": [
    "# drop all unconverted records\n",
    "rw = rw.dropna(subset=['arrival'])"
   ]
  },
  {
   "cell_type": "code",
   "execution_count": 18,
   "metadata": {},
   "outputs": [
    {
     "name": "stdout",
     "output_type": "stream",
     "text": [
      "From 2020-10-30 to 2021-02-13\n"
     ]
    }
   ],
   "source": [
    "# Let's figure out the date range of our dataset with which we will deal\n",
    "print(\"From\", rw.dates.dt.date.min(), \"to\", rw.dates.dt.date.max())"
   ]
  },
  {
   "cell_type": "markdown",
   "metadata": {},
   "source": [
    "### Tables and graphs"
   ]
  },
  {
   "cell_type": "code",
   "execution_count": 19,
   "metadata": {},
   "outputs": [
    {
     "data": {
      "text/html": [
       "<div>\n",
       "<style scoped>\n",
       "    .dataframe tbody tr th:only-of-type {\n",
       "        vertical-align: middle;\n",
       "    }\n",
       "\n",
       "    .dataframe tbody tr th {\n",
       "        vertical-align: top;\n",
       "    }\n",
       "\n",
       "    .dataframe thead th {\n",
       "        text-align: right;\n",
       "    }\n",
       "</style>\n",
       "<table border=\"1\" class=\"dataframe\">\n",
       "  <thead>\n",
       "    <tr style=\"text-align: right;\">\n",
       "      <th></th>\n",
       "      <th>dates</th>\n",
       "    </tr>\n",
       "  </thead>\n",
       "  <tbody>\n",
       "    <tr>\n",
       "      <th>2020-10-30</th>\n",
       "      <td>483</td>\n",
       "    </tr>\n",
       "    <tr>\n",
       "      <th>2020-10-31</th>\n",
       "      <td>1784</td>\n",
       "    </tr>\n",
       "    <tr>\n",
       "      <th>2020-11-01</th>\n",
       "      <td>1430</td>\n",
       "    </tr>\n",
       "    <tr>\n",
       "      <th>2020-11-02</th>\n",
       "      <td>1588</td>\n",
       "    </tr>\n",
       "    <tr>\n",
       "      <th>2020-11-03</th>\n",
       "      <td>1748</td>\n",
       "    </tr>\n",
       "  </tbody>\n",
       "</table>\n",
       "</div>"
      ],
      "text/plain": [
       "            dates\n",
       "2020-10-30    483\n",
       "2020-10-31   1784\n",
       "2020-11-01   1430\n",
       "2020-11-02   1588\n",
       "2020-11-03   1748"
      ]
     },
     "execution_count": 19,
     "metadata": {},
     "output_type": "execute_result"
    }
   ],
   "source": [
    "# total number of flight by day\n",
    "daily_flights = pd.DataFrame(rw.dates.value_counts()).sort_index()\n",
    "daily_flights.head()"
   ]
  },
  {
   "cell_type": "code",
   "execution_count": 20,
   "metadata": {},
   "outputs": [],
   "source": [
    "# As we don't have access to the data for the entire October and February,\n",
    "# we have to exclude the first and the last days of these months in our date range. \n",
    "# Otherwise, it may give wrong outcomes\n",
    "daily_flights = daily_flights.loc['2020-10-31':'2021-2-12'].rename({'dates':'number of flights'}, axis=1)\n",
    "\n",
    "# Add a moving Average for 30 days window to see trend\n",
    "daily_flights['Moving average for 30 days window'] = daily_flights['number of flights'].rolling(window='30D').mean()"
   ]
  },
  {
   "cell_type": "code",
   "execution_count": 21,
   "metadata": {},
   "outputs": [],
   "source": [
    "# add Covid19 cases to observe correlation. Source: https://covidtracking.com/data/download\n",
    "covid19 = pd.read_csv('..//Datasets/national-history.csv', parse_dates=['date'], index_col='date')\n",
    "covid19 = covid19.positiveIncrease.loc['2021-2-12':'2020-10-31']"
   ]
  },
  {
   "cell_type": "code",
   "execution_count": 22,
   "metadata": {},
   "outputs": [
    {
     "data": {
      "image/png": "[encoded data removed]",
      "text/plain": [
       "<Figure size 1080x720 with 2 Axes>"
      ]
     },
     "metadata": {
      "needs_background": "light"
     },
     "output_type": "display_data"
    }
   ],
   "source": [
    "# Let's visualize the number of flight for each day\n",
    "\n",
    "fig, ax = plt.subplots(2)\n",
    "fig.set_size_inches(15, 10)\n",
    "daily_flights.plot(ax=ax[0])\n",
    "ax[0].set_title(\"The total number of flight for each day\")\n",
    "covid19.plot(ax=ax[1], color='red')\n",
    "ax[1].set_title(\"The daily new COVID-19 Cases\")\n",
    "plt.xlabel(\"Date\")\n",
    "plt.show()"
   ]
  },
  {
   "cell_type": "code",
   "execution_count": 24,
   "metadata": {},
   "outputs": [],
   "source": [
    "# create new variable of flight duration for each day from 2020-10-31\n",
    "duration = rw.set_index(\"dates\").duration_minutes.sort_index().iloc[2020-10-31:]"
   ]
  },
  {
   "cell_type": "code",
   "execution_count": 25,
   "metadata": {},
   "outputs": [
    {
     "ename": "KeyError",
     "evalue": "'number of flights'",
     "output_type": "error",
     "traceback": [
      "\u001b[0;31m---------------------------------------------------------------------------\u001b[0m",
      "\u001b[0;31mParserError\u001b[0m                               Traceback (most recent call last)",
      "\u001b[0;32mpandas/_libs/tslibs/conversion.pyx\u001b[0m in \u001b[0;36mpandas._libs.tslibs.conversion._convert_str_to_tsobject\u001b[0;34m()\u001b[0m\n",
      "\u001b[0;32mpandas/_libs/tslibs/parsing.pyx\u001b[0m in \u001b[0;36mpandas._libs.tslibs.parsing.parse_datetime_string\u001b[0;34m()\u001b[0m\n",
      "\u001b[0;32m~/opt/anaconda3/lib/python3.7/site-packages/dateutil/parser/_parser.py\u001b[0m in \u001b[0;36mparse\u001b[0;34m(timestr, parserinfo, **kwargs)\u001b[0m\n\u001b[1;32m   1373\u001b[0m     \u001b[0;32melse\u001b[0m\u001b[0;34m:\u001b[0m\u001b[0;34m\u001b[0m\u001b[0;34m\u001b[0m\u001b[0m\n\u001b[0;32m-> 1374\u001b[0;31m         \u001b[0;32mreturn\u001b[0m \u001b[0mDEFAULTPARSER\u001b[0m\u001b[0;34m.\u001b[0m\u001b[0mparse\u001b[0m\u001b[0;34m(\u001b[0m\u001b[0mtimestr\u001b[0m\u001b[0;34m,\u001b[0m \u001b[0;34m**\u001b[0m\u001b[0mkwargs\u001b[0m\u001b[0;34m)\u001b[0m\u001b[0;34m\u001b[0m\u001b[0;34m\u001b[0m\u001b[0m\n\u001b[0m\u001b[1;32m   1375\u001b[0m \u001b[0;34m\u001b[0m\u001b[0m\n",
      "\u001b[0;32m~/opt/anaconda3/lib/python3.7/site-packages/dateutil/parser/_parser.py\u001b[0m in \u001b[0;36mparse\u001b[0;34m(self, timestr, default, ignoretz, tzinfos, **kwargs)\u001b[0m\n\u001b[1;32m    648\u001b[0m         \u001b[0;32mif\u001b[0m \u001b[0mres\u001b[0m \u001b[0;32mis\u001b[0m \u001b[0;32mNone\u001b[0m\u001b[0;34m:\u001b[0m\u001b[0;34m\u001b[0m\u001b[0;34m\u001b[0m\u001b[0m\n\u001b[0;32m--> 649\u001b[0;31m             \u001b[0;32mraise\u001b[0m \u001b[0mParserError\u001b[0m\u001b[0;34m(\u001b[0m\u001b[0;34m\"Unknown string format: %s\"\u001b[0m\u001b[0;34m,\u001b[0m \u001b[0mtimestr\u001b[0m\u001b[0;34m)\u001b[0m\u001b[0;34m\u001b[0m\u001b[0;34m\u001b[0m\u001b[0m\n\u001b[0m\u001b[1;32m    650\u001b[0m \u001b[0;34m\u001b[0m\u001b[0m\n",
      "\u001b[0;31mParserError\u001b[0m: Unknown string format: number of flights",
      "\nDuring handling of the above exception, another exception occurred:\n",
      "\u001b[0;31mValueError\u001b[0m                                Traceback (most recent call last)",
      "\u001b[0;32m~/opt/anaconda3/lib/python3.7/site-packages/pandas/core/indexes/datetimes.py\u001b[0m in \u001b[0;36mget_loc\u001b[0;34m(self, key, method, tolerance)\u001b[0m\n\u001b[1;32m    663\u001b[0m             \u001b[0;32mtry\u001b[0m\u001b[0;34m:\u001b[0m\u001b[0;34m\u001b[0m\u001b[0;34m\u001b[0m\u001b[0m\n\u001b[0;32m--> 664\u001b[0;31m                 \u001b[0mkey\u001b[0m \u001b[0;34m=\u001b[0m \u001b[0mself\u001b[0m\u001b[0;34m.\u001b[0m\u001b[0m_maybe_cast_for_get_loc\u001b[0m\u001b[0;34m(\u001b[0m\u001b[0mkey\u001b[0m\u001b[0;34m)\u001b[0m\u001b[0;34m\u001b[0m\u001b[0;34m\u001b[0m\u001b[0m\n\u001b[0m\u001b[1;32m    665\u001b[0m             \u001b[0;32mexcept\u001b[0m \u001b[0mValueError\u001b[0m \u001b[0;32mas\u001b[0m \u001b[0merr\u001b[0m\u001b[0;34m:\u001b[0m\u001b[0;34m\u001b[0m\u001b[0;34m\u001b[0m\u001b[0m\n",
      "\u001b[0;32m~/opt/anaconda3/lib/python3.7/site-packages/pandas/core/indexes/datetimes.py\u001b[0m in \u001b[0;36m_maybe_cast_for_get_loc\u001b[0;34m(self, key)\u001b[0m\n\u001b[1;32m    691\u001b[0m         \u001b[0;31m# needed to localize naive datetimes or dates (GH 35690)\u001b[0m\u001b[0;34m\u001b[0m\u001b[0;34m\u001b[0m\u001b[0;34m\u001b[0m\u001b[0m\n\u001b[0;32m--> 692\u001b[0;31m         \u001b[0mkey\u001b[0m \u001b[0;34m=\u001b[0m \u001b[0mTimestamp\u001b[0m\u001b[0;34m(\u001b[0m\u001b[0mkey\u001b[0m\u001b[0;34m)\u001b[0m\u001b[0;34m\u001b[0m\u001b[0;34m\u001b[0m\u001b[0m\n\u001b[0m\u001b[1;32m    693\u001b[0m         \u001b[0;32mif\u001b[0m \u001b[0mkey\u001b[0m\u001b[0;34m.\u001b[0m\u001b[0mtzinfo\u001b[0m \u001b[0;32mis\u001b[0m \u001b[0;32mNone\u001b[0m\u001b[0;34m:\u001b[0m\u001b[0;34m\u001b[0m\u001b[0;34m\u001b[0m\u001b[0m\n",
      "\u001b[0;32mpandas/_libs/tslibs/timestamps.pyx\u001b[0m in \u001b[0;36mpandas._libs.tslibs.timestamps.Timestamp.__new__\u001b[0;34m()\u001b[0m\n",
      "\u001b[0;32mpandas/_libs/tslibs/conversion.pyx\u001b[0m in \u001b[0;36mpandas._libs.tslibs.conversion.convert_to_tsobject\u001b[0;34m()\u001b[0m\n",
      "\u001b[0;32mpandas/_libs/tslibs/conversion.pyx\u001b[0m in \u001b[0;36mpandas._libs.tslibs.conversion._convert_str_to_tsobject\u001b[0;34m()\u001b[0m\n",
      "\u001b[0;31mValueError\u001b[0m: could not convert string to Timestamp",
      "\nThe above exception was the direct cause of the following exception:\n",
      "\u001b[0;31mKeyError\u001b[0m                                  Traceback (most recent call last)",
      "\u001b[0;32m<ipython-input-25-239bc4827ced>\u001b[0m in \u001b[0;36m<module>\u001b[0;34m\u001b[0m\n\u001b[1;32m      1\u001b[0m \u001b[0;31m# calculate average suration for each day\u001b[0m\u001b[0;34m\u001b[0m\u001b[0;34m\u001b[0m\u001b[0;34m\u001b[0m\u001b[0m\n\u001b[1;32m      2\u001b[0m \u001b[0mavg_duration\u001b[0m \u001b[0;34m=\u001b[0m \u001b[0mduration\u001b[0m\u001b[0;34m.\u001b[0m\u001b[0mgroupby\u001b[0m\u001b[0;34m(\u001b[0m\u001b[0;34m'dates'\u001b[0m\u001b[0;34m)\u001b[0m\u001b[0;34m.\u001b[0m\u001b[0mmean\u001b[0m\u001b[0;34m(\u001b[0m\u001b[0;34m)\u001b[0m\u001b[0;34m\u001b[0m\u001b[0;34m\u001b[0m\u001b[0m\n\u001b[0;32m----> 3\u001b[0;31m \u001b[0mavg_duration\u001b[0m\u001b[0;34m[\u001b[0m\u001b[0;34m'rolling average for 30 days window'\u001b[0m\u001b[0;34m]\u001b[0m \u001b[0;34m=\u001b[0m \u001b[0mavg_duration\u001b[0m\u001b[0;34m[\u001b[0m\u001b[0;34m'number of flights'\u001b[0m\u001b[0;34m]\u001b[0m\u001b[0;34m.\u001b[0m\u001b[0mrolling\u001b[0m\u001b[0;34m(\u001b[0m\u001b[0mwindow\u001b[0m\u001b[0;34m=\u001b[0m\u001b[0;34m'30D'\u001b[0m\u001b[0;34m)\u001b[0m\u001b[0;34m.\u001b[0m\u001b[0mmean\u001b[0m\u001b[0;34m(\u001b[0m\u001b[0;34m)\u001b[0m\u001b[0;34m\u001b[0m\u001b[0;34m\u001b[0m\u001b[0m\n\u001b[0m",
      "\u001b[0;32m~/opt/anaconda3/lib/python3.7/site-packages/pandas/core/series.py\u001b[0m in \u001b[0;36m__getitem__\u001b[0;34m(self, key)\u001b[0m\n\u001b[1;32m    822\u001b[0m \u001b[0;34m\u001b[0m\u001b[0m\n\u001b[1;32m    823\u001b[0m         \u001b[0;32melif\u001b[0m \u001b[0mkey_is_scalar\u001b[0m\u001b[0;34m:\u001b[0m\u001b[0;34m\u001b[0m\u001b[0;34m\u001b[0m\u001b[0m\n\u001b[0;32m--> 824\u001b[0;31m             \u001b[0;32mreturn\u001b[0m \u001b[0mself\u001b[0m\u001b[0;34m.\u001b[0m\u001b[0m_get_value\u001b[0m\u001b[0;34m(\u001b[0m\u001b[0mkey\u001b[0m\u001b[0;34m)\u001b[0m\u001b[0;34m\u001b[0m\u001b[0;34m\u001b[0m\u001b[0m\n\u001b[0m\u001b[1;32m    825\u001b[0m \u001b[0;34m\u001b[0m\u001b[0m\n\u001b[1;32m    826\u001b[0m         \u001b[0;32mif\u001b[0m \u001b[0mis_hashable\u001b[0m\u001b[0;34m(\u001b[0m\u001b[0mkey\u001b[0m\u001b[0;34m)\u001b[0m\u001b[0;34m:\u001b[0m\u001b[0;34m\u001b[0m\u001b[0;34m\u001b[0m\u001b[0m\n",
      "\u001b[0;32m~/opt/anaconda3/lib/python3.7/site-packages/pandas/core/series.py\u001b[0m in \u001b[0;36m_get_value\u001b[0;34m(self, label, takeable)\u001b[0m\n\u001b[1;32m    930\u001b[0m \u001b[0;34m\u001b[0m\u001b[0m\n\u001b[1;32m    931\u001b[0m         \u001b[0;31m# Similar to Index.get_value, but we do not fall back to positional\u001b[0m\u001b[0;34m\u001b[0m\u001b[0;34m\u001b[0m\u001b[0;34m\u001b[0m\u001b[0m\n\u001b[0;32m--> 932\u001b[0;31m         \u001b[0mloc\u001b[0m \u001b[0;34m=\u001b[0m \u001b[0mself\u001b[0m\u001b[0;34m.\u001b[0m\u001b[0mindex\u001b[0m\u001b[0;34m.\u001b[0m\u001b[0mget_loc\u001b[0m\u001b[0;34m(\u001b[0m\u001b[0mlabel\u001b[0m\u001b[0;34m)\u001b[0m\u001b[0;34m\u001b[0m\u001b[0;34m\u001b[0m\u001b[0m\n\u001b[0m\u001b[1;32m    933\u001b[0m         \u001b[0;32mreturn\u001b[0m \u001b[0mself\u001b[0m\u001b[0;34m.\u001b[0m\u001b[0mindex\u001b[0m\u001b[0;34m.\u001b[0m\u001b[0m_get_values_for_loc\u001b[0m\u001b[0;34m(\u001b[0m\u001b[0mself\u001b[0m\u001b[0;34m,\u001b[0m \u001b[0mloc\u001b[0m\u001b[0;34m,\u001b[0m \u001b[0mlabel\u001b[0m\u001b[0;34m)\u001b[0m\u001b[0;34m\u001b[0m\u001b[0;34m\u001b[0m\u001b[0m\n\u001b[1;32m    934\u001b[0m \u001b[0;34m\u001b[0m\u001b[0m\n",
      "\u001b[0;32m~/opt/anaconda3/lib/python3.7/site-packages/pandas/core/indexes/datetimes.py\u001b[0m in \u001b[0;36mget_loc\u001b[0;34m(self, key, method, tolerance)\u001b[0m\n\u001b[1;32m    664\u001b[0m                 \u001b[0mkey\u001b[0m \u001b[0;34m=\u001b[0m \u001b[0mself\u001b[0m\u001b[0;34m.\u001b[0m\u001b[0m_maybe_cast_for_get_loc\u001b[0m\u001b[0;34m(\u001b[0m\u001b[0mkey\u001b[0m\u001b[0;34m)\u001b[0m\u001b[0;34m\u001b[0m\u001b[0;34m\u001b[0m\u001b[0m\n\u001b[1;32m    665\u001b[0m             \u001b[0;32mexcept\u001b[0m \u001b[0mValueError\u001b[0m \u001b[0;32mas\u001b[0m \u001b[0merr\u001b[0m\u001b[0;34m:\u001b[0m\u001b[0;34m\u001b[0m\u001b[0;34m\u001b[0m\u001b[0m\n\u001b[0;32m--> 666\u001b[0;31m                 \u001b[0;32mraise\u001b[0m \u001b[0mKeyError\u001b[0m\u001b[0;34m(\u001b[0m\u001b[0mkey\u001b[0m\u001b[0;34m)\u001b[0m \u001b[0;32mfrom\u001b[0m \u001b[0merr\u001b[0m\u001b[0;34m\u001b[0m\u001b[0;34m\u001b[0m\u001b[0m\n\u001b[0m\u001b[1;32m    667\u001b[0m \u001b[0;34m\u001b[0m\u001b[0m\n\u001b[1;32m    668\u001b[0m         \u001b[0;32melif\u001b[0m \u001b[0misinstance\u001b[0m\u001b[0;34m(\u001b[0m\u001b[0mkey\u001b[0m\u001b[0;34m,\u001b[0m \u001b[0mtimedelta\u001b[0m\u001b[0;34m)\u001b[0m\u001b[0;34m:\u001b[0m\u001b[0;34m\u001b[0m\u001b[0;34m\u001b[0m\u001b[0m\n",
      "\u001b[0;31mKeyError\u001b[0m: 'number of flights'"
     ]
    }
   ],
   "source": [
    "# calculate average suration for each day\n",
    "avg_duration = duration.groupby('dates').mean()\n",
    "avg_duration['rolling average for 30 days window'] = avg_duration['number of flights'].rolling(window='30D').mean()"
   ]
  },
  {
   "cell_type": "code",
   "execution_count": null,
   "metadata": {},
   "outputs": [],
   "source": [
    "avg_duration.head(20)"
   ]
  },
  {
   "cell_type": "code",
   "execution_count": 44,
   "metadata": {},
   "outputs": [
    {
     "ename": "NameError",
     "evalue": "name 'avg_duration' is not defined",
     "output_type": "error",
     "traceback": [
      "\u001b[0;31m---------------------------------------------------------------------------\u001b[0m",
      "\u001b[0;31mNameError\u001b[0m                                 Traceback (most recent call last)",
      "\u001b[0;32m<ipython-input-44-c9273a57b201>\u001b[0m in \u001b[0;36m<module>\u001b[0;34m\u001b[0m\n\u001b[1;32m      2\u001b[0m \u001b[0mfig\u001b[0m\u001b[0;34m,\u001b[0m \u001b[0max\u001b[0m \u001b[0;34m=\u001b[0m \u001b[0mplt\u001b[0m\u001b[0;34m.\u001b[0m\u001b[0msubplots\u001b[0m\u001b[0;34m(\u001b[0m\u001b[0;34m)\u001b[0m\u001b[0;34m\u001b[0m\u001b[0;34m\u001b[0m\u001b[0m\n\u001b[1;32m      3\u001b[0m \u001b[0mfig\u001b[0m\u001b[0;34m.\u001b[0m\u001b[0mset_size_inches\u001b[0m\u001b[0;34m(\u001b[0m\u001b[0;36m15\u001b[0m\u001b[0;34m,\u001b[0m \u001b[0;36m10\u001b[0m\u001b[0;34m)\u001b[0m\u001b[0;34m\u001b[0m\u001b[0;34m\u001b[0m\u001b[0m\n\u001b[0;32m----> 4\u001b[0;31m \u001b[0mavg_duration\u001b[0m\u001b[0;34m.\u001b[0m\u001b[0mplot\u001b[0m\u001b[0;34m(\u001b[0m\u001b[0max\u001b[0m\u001b[0;34m=\u001b[0m\u001b[0max\u001b[0m\u001b[0;34m)\u001b[0m\u001b[0;34m\u001b[0m\u001b[0;34m\u001b[0m\u001b[0m\n\u001b[0m\u001b[1;32m      5\u001b[0m \u001b[0mplt\u001b[0m\u001b[0;34m.\u001b[0m\u001b[0mtitle\u001b[0m\u001b[0;34m(\u001b[0m\u001b[0;34m\"Average flight duration in minutes\"\u001b[0m\u001b[0;34m)\u001b[0m\u001b[0;34m\u001b[0m\u001b[0;34m\u001b[0m\u001b[0m\n\u001b[1;32m      6\u001b[0m \u001b[0mplt\u001b[0m\u001b[0;34m.\u001b[0m\u001b[0mxlabel\u001b[0m\u001b[0;34m(\u001b[0m\u001b[0;34m\"Date\"\u001b[0m\u001b[0;34m)\u001b[0m\u001b[0;34m\u001b[0m\u001b[0;34m\u001b[0m\u001b[0m\n",
      "\u001b[0;31mNameError\u001b[0m: name 'avg_duration' is not defined"
     ]
    },
    {
     "data": {
      "image/png": "[encoded data removed]",
      "text/plain": [
       "<Figure size 1080x720 with 1 Axes>"
      ]
     },
     "metadata": {
      "needs_background": "light"
     },
     "output_type": "display_data"
    }
   ],
   "source": [
    "# Let's visualize the average duration\n",
    "fig, ax = plt.subplots()\n",
    "fig.set_size_inches(15, 10)\n",
    "avg_duration.plot(ax=ax)\n",
    "plt.title(\"Average flight duration in minutes\")\n",
    "plt.xlabel(\"Date\")\n",
    "plt.show()"
   ]
  },
  {
   "cell_type": "code",
   "execution_count": null,
   "metadata": {},
   "outputs": [],
   "source": []
  },
  {
   "cell_type": "code",
   "execution_count": null,
   "metadata": {},
   "outputs": [],
   "source": []
  }
 ],
 "metadata": {
  "kernelspec": {
   "display_name": "Python 3",
   "language": "python",
   "name": "python3"
  },
  "language_info": {
   "codemirror_mode": {
    "name": "ipython",
    "version": 3
   },
   "file_extension": ".py",
   "mimetype": "text/x-python",
   "name": "python",
   "nbconvert_exporter": "python",
   "pygments_lexer": "ipython3",
   "version": "3.7.4"
  }
 },
 "nbformat": 4,
 "nbformat_minor": 4
}
