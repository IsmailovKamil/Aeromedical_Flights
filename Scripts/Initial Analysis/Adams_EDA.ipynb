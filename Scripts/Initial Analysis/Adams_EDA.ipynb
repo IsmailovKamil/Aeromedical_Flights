{
 "cells": [
  {
   "cell_type": "code",
   "execution_count": 1,
   "metadata": {},
   "outputs": [],
   "source": [
    "import pandas as pd\n",
    "import numpy as np\n",
    "import matplotlib.pyplot as plt\n",
    "#conda install -c anaconda keras\n",
    "#pip install pycaret-nightly"
   ]
  },
  {
   "cell_type": "code",
   "execution_count": 2,
   "metadata": {},
   "outputs": [
    {
     "data": {
      "text/html": [
       "<div>\n",
       "<style scoped>\n",
       "    .dataframe tbody tr th:only-of-type {\n",
       "        vertical-align: middle;\n",
       "    }\n",
       "\n",
       "    .dataframe tbody tr th {\n",
       "        vertical-align: top;\n",
       "    }\n",
       "\n",
       "    .dataframe thead th {\n",
       "        text-align: right;\n",
       "    }\n",
       "</style>\n",
       "<table border=\"1\" class=\"dataframe\">\n",
       "  <thead>\n",
       "    <tr style=\"text-align: right;\">\n",
       "      <th></th>\n",
       "      <th>Unnamed: 0</th>\n",
       "      <th>Provider ID</th>\n",
       "      <th>Service Name</th>\n",
       "      <th>Base Name / Site</th>\n",
       "      <th>State</th>\n",
       "      <th>City</th>\n",
       "      <th>Zip</th>\n",
       "      <th>Location Type</th>\n",
       "      <th># RW</th>\n",
       "      <th># FW</th>\n",
       "      <th>NPIAS</th>\n",
       "      <th>Level 1</th>\n",
       "    </tr>\n",
       "  </thead>\n",
       "  <tbody>\n",
       "    <tr>\n",
       "      <th>0</th>\n",
       "      <td>FW</td>\n",
       "      <td>AK011</td>\n",
       "      <td>40-Mile Air, LTD.</td>\n",
       "      <td>Tok Airport</td>\n",
       "      <td>AK</td>\n",
       "      <td>Tok</td>\n",
       "      <td>99780</td>\n",
       "      <td>Airport</td>\n",
       "      <td>NaN</td>\n",
       "      <td>1</td>\n",
       "      <td>NaN</td>\n",
       "      <td>NaN</td>\n",
       "    </tr>\n",
       "    <tr>\n",
       "      <th>1</th>\n",
       "      <td>RW</td>\n",
       "      <td>MT004</td>\n",
       "      <td>A.L.E.R.T.</td>\n",
       "      <td>Glacier Park International Airport</td>\n",
       "      <td>MT</td>\n",
       "      <td>Kalispell</td>\n",
       "      <td>59901</td>\n",
       "      <td>Airport</td>\n",
       "      <td>NaN</td>\n",
       "      <td>1</td>\n",
       "      <td>Y</td>\n",
       "      <td>NaN</td>\n",
       "    </tr>\n",
       "    <tr>\n",
       "      <th>2</th>\n",
       "      <td>RW</td>\n",
       "      <td>MT004</td>\n",
       "      <td>A.L.E.R.T.</td>\n",
       "      <td>Kalispell Regional Medical Center</td>\n",
       "      <td>MT</td>\n",
       "      <td>Kalispell</td>\n",
       "      <td>59901</td>\n",
       "      <td>Hospital</td>\n",
       "      <td>2</td>\n",
       "      <td>NaN</td>\n",
       "      <td>NaN</td>\n",
       "      <td>NaN</td>\n",
       "    </tr>\n",
       "    <tr>\n",
       "      <th>3</th>\n",
       "      <td>FW</td>\n",
       "      <td>MN005</td>\n",
       "      <td>A.L.S. Aerocare</td>\n",
       "      <td>Flying Cloud Airport</td>\n",
       "      <td>MN</td>\n",
       "      <td>Eden Prairie</td>\n",
       "      <td>55347</td>\n",
       "      <td>Airport</td>\n",
       "      <td>NaN</td>\n",
       "      <td>5</td>\n",
       "      <td>Y</td>\n",
       "      <td>NaN</td>\n",
       "    </tr>\n",
       "    <tr>\n",
       "      <th>4</th>\n",
       "      <td>RW</td>\n",
       "      <td>LA001</td>\n",
       "      <td>Acadian Ambulance Air Med Services</td>\n",
       "      <td>Air Med 3 Pecue Lane Helipad</td>\n",
       "      <td>LA</td>\n",
       "      <td>Baton Rouge</td>\n",
       "      <td>70809</td>\n",
       "      <td>Helipad</td>\n",
       "      <td>1</td>\n",
       "      <td>NaN</td>\n",
       "      <td>NaN</td>\n",
       "      <td>NaN</td>\n",
       "    </tr>\n",
       "  </tbody>\n",
       "</table>\n",
       "</div>"
      ],
      "text/plain": [
       "  Unnamed: 0 Provider ID                        Service Name  \\\n",
       "0         FW       AK011                   40-Mile Air, LTD.   \n",
       "1         RW       MT004                          A.L.E.R.T.   \n",
       "2         RW       MT004                          A.L.E.R.T.   \n",
       "3         FW       MN005                     A.L.S. Aerocare   \n",
       "4         RW       LA001  Acadian Ambulance Air Med Services   \n",
       "\n",
       "                     Base Name / Site State          City    Zip  \\\n",
       "0                         Tok Airport    AK           Tok  99780   \n",
       "1  Glacier Park International Airport    MT     Kalispell  59901   \n",
       "2   Kalispell Regional Medical Center    MT     Kalispell  59901   \n",
       "3                Flying Cloud Airport    MN  Eden Prairie  55347   \n",
       "4        Air Med 3 Pecue Lane Helipad    LA   Baton Rouge  70809   \n",
       "\n",
       "  Location Type # RW # FW NPIAS Level 1  \n",
       "0       Airport  NaN    1   NaN     NaN  \n",
       "1       Airport  NaN    1     Y     NaN  \n",
       "2      Hospital    2  NaN   NaN     NaN  \n",
       "3       Airport  NaN    5     Y     NaN  \n",
       "4       Helipad    1  NaN   NaN     NaN  "
      ]
     },
     "execution_count": 2,
     "metadata": {},
     "output_type": "execute_result"
    }
   ],
   "source": [
    "#Read Adams dataset\n",
    "\n",
    "df1 = pd.read_csv('Adams.csv',encoding='latin1')\n",
    "#df1=pd.read_excel(\"Adams1.xlsx\")\n",
    "\n",
    "df1.head(5)"
   ]
  },
  {
   "cell_type": "code",
   "execution_count": 3,
   "metadata": {},
   "outputs": [
    {
     "name": "stdout",
     "output_type": "stream",
     "text": [
      "Unnamed: 0\n",
      "Provider ID\n",
      "Service Name\n",
      "Base Name / Site\n",
      "State\n",
      "City\n",
      "Zip\n",
      "Location Type\n",
      "# RW\n",
      "# FW\n",
      "NPIAS\n",
      "Level 1\n"
     ]
    }
   ],
   "source": [
    "#Display list of columns\n",
    "for col in df1.columns:\n",
    "    print(col)"
   ]
  },
  {
   "cell_type": "code",
   "execution_count": 4,
   "metadata": {},
   "outputs": [
    {
     "data": {
      "text/plain": [
       "'Unnamed: 0'"
      ]
     },
     "execution_count": 4,
     "metadata": {},
     "output_type": "execute_result"
    }
   ],
   "source": [
    "df1.columns.values[0] "
   ]
  },
  {
   "cell_type": "code",
   "execution_count": 5,
   "metadata": {},
   "outputs": [
    {
     "data": {
      "text/html": [
       "<div>\n",
       "<style scoped>\n",
       "    .dataframe tbody tr th:only-of-type {\n",
       "        vertical-align: middle;\n",
       "    }\n",
       "\n",
       "    .dataframe tbody tr th {\n",
       "        vertical-align: top;\n",
       "    }\n",
       "\n",
       "    .dataframe thead th {\n",
       "        text-align: right;\n",
       "    }\n",
       "</style>\n",
       "<table border=\"1\" class=\"dataframe\">\n",
       "  <thead>\n",
       "    <tr style=\"text-align: right;\">\n",
       "      <th></th>\n",
       "      <th>Aircraft_Type</th>\n",
       "      <th>Provider ID</th>\n",
       "      <th>Service Name</th>\n",
       "      <th>Base Name / Site</th>\n",
       "      <th>State</th>\n",
       "      <th>City</th>\n",
       "      <th>Zip</th>\n",
       "      <th>Location Type</th>\n",
       "      <th># RW</th>\n",
       "      <th># FW</th>\n",
       "      <th>NPIAS</th>\n",
       "      <th>Level 1</th>\n",
       "    </tr>\n",
       "  </thead>\n",
       "  <tbody>\n",
       "    <tr>\n",
       "      <th>0</th>\n",
       "      <td>FW</td>\n",
       "      <td>AK011</td>\n",
       "      <td>40-Mile Air, LTD.</td>\n",
       "      <td>Tok Airport</td>\n",
       "      <td>AK</td>\n",
       "      <td>Tok</td>\n",
       "      <td>99780</td>\n",
       "      <td>Airport</td>\n",
       "      <td>NaN</td>\n",
       "      <td>1</td>\n",
       "      <td>NaN</td>\n",
       "      <td>NaN</td>\n",
       "    </tr>\n",
       "    <tr>\n",
       "      <th>1</th>\n",
       "      <td>RW</td>\n",
       "      <td>MT004</td>\n",
       "      <td>A.L.E.R.T.</td>\n",
       "      <td>Glacier Park International Airport</td>\n",
       "      <td>MT</td>\n",
       "      <td>Kalispell</td>\n",
       "      <td>59901</td>\n",
       "      <td>Airport</td>\n",
       "      <td>NaN</td>\n",
       "      <td>1</td>\n",
       "      <td>Y</td>\n",
       "      <td>NaN</td>\n",
       "    </tr>\n",
       "    <tr>\n",
       "      <th>2</th>\n",
       "      <td>RW</td>\n",
       "      <td>MT004</td>\n",
       "      <td>A.L.E.R.T.</td>\n",
       "      <td>Kalispell Regional Medical Center</td>\n",
       "      <td>MT</td>\n",
       "      <td>Kalispell</td>\n",
       "      <td>59901</td>\n",
       "      <td>Hospital</td>\n",
       "      <td>2</td>\n",
       "      <td>NaN</td>\n",
       "      <td>NaN</td>\n",
       "      <td>NaN</td>\n",
       "    </tr>\n",
       "    <tr>\n",
       "      <th>3</th>\n",
       "      <td>FW</td>\n",
       "      <td>MN005</td>\n",
       "      <td>A.L.S. Aerocare</td>\n",
       "      <td>Flying Cloud Airport</td>\n",
       "      <td>MN</td>\n",
       "      <td>Eden Prairie</td>\n",
       "      <td>55347</td>\n",
       "      <td>Airport</td>\n",
       "      <td>NaN</td>\n",
       "      <td>5</td>\n",
       "      <td>Y</td>\n",
       "      <td>NaN</td>\n",
       "    </tr>\n",
       "    <tr>\n",
       "      <th>4</th>\n",
       "      <td>RW</td>\n",
       "      <td>LA001</td>\n",
       "      <td>Acadian Ambulance Air Med Services</td>\n",
       "      <td>Air Med 3 Pecue Lane Helipad</td>\n",
       "      <td>LA</td>\n",
       "      <td>Baton Rouge</td>\n",
       "      <td>70809</td>\n",
       "      <td>Helipad</td>\n",
       "      <td>1</td>\n",
       "      <td>NaN</td>\n",
       "      <td>NaN</td>\n",
       "      <td>NaN</td>\n",
       "    </tr>\n",
       "  </tbody>\n",
       "</table>\n",
       "</div>"
      ],
      "text/plain": [
       "  Aircraft_Type Provider ID                        Service Name  \\\n",
       "0            FW       AK011                   40-Mile Air, LTD.   \n",
       "1            RW       MT004                          A.L.E.R.T.   \n",
       "2            RW       MT004                          A.L.E.R.T.   \n",
       "3            FW       MN005                     A.L.S. Aerocare   \n",
       "4            RW       LA001  Acadian Ambulance Air Med Services   \n",
       "\n",
       "                     Base Name / Site State          City    Zip  \\\n",
       "0                         Tok Airport    AK           Tok  99780   \n",
       "1  Glacier Park International Airport    MT     Kalispell  59901   \n",
       "2   Kalispell Regional Medical Center    MT     Kalispell  59901   \n",
       "3                Flying Cloud Airport    MN  Eden Prairie  55347   \n",
       "4        Air Med 3 Pecue Lane Helipad    LA   Baton Rouge  70809   \n",
       "\n",
       "  Location Type # RW # FW NPIAS Level 1  \n",
       "0       Airport  NaN    1   NaN     NaN  \n",
       "1       Airport  NaN    1     Y     NaN  \n",
       "2      Hospital    2  NaN   NaN     NaN  \n",
       "3       Airport  NaN    5     Y     NaN  \n",
       "4       Helipad    1  NaN   NaN     NaN  "
      ]
     },
     "execution_count": 5,
     "metadata": {},
     "output_type": "execute_result"
    }
   ],
   "source": [
    "#Assign a name to the unnamed column\n",
    "\n",
    "df1.columns.values[0] = 'Aircraft_Type'\n",
    "df1.head(5)"
   ]
  },
  {
   "cell_type": "code",
   "execution_count": 6,
   "metadata": {},
   "outputs": [],
   "source": [
    "#Assign appropriate names to all columns\n",
    "\n",
    "df = df1.rename({'Provider ID': 'Provider_ID',\n",
    "                 'Service Name': 'Service_Name',\n",
    "                 'Base Name / Site': 'Base_Name',\n",
    "                 'Location Type' :'Location_Type',\n",
    "                 '# RW':'RW',\n",
    "                 '# FW': 'FW',\n",
    "                 'Level 1': 'Level1'}, axis=1)"
   ]
  },
  {
   "cell_type": "code",
   "execution_count": 7,
   "metadata": {},
   "outputs": [
    {
     "name": "stdout",
     "output_type": "stream",
     "text": [
      "Number of duplicate rows = 0\n"
     ]
    }
   ],
   "source": [
    "#Check for Duplicates\n",
    "\n",
    "dupsCheck = df.duplicated()\n",
    "print('Number of duplicate rows = %d' % (dupsCheck.sum()))"
   ]
  },
  {
   "cell_type": "code",
   "execution_count": 8,
   "metadata": {},
   "outputs": [
    {
     "name": "stdout",
     "output_type": "stream",
     "text": [
      "Number of instances = 1110\n",
      "Number of attributes = 12\n",
      "------------------------------\n",
      "Columns           Null Values\n"
     ]
    },
    {
     "data": {
      "text/plain": [
       "Aircraft_Type       0\n",
       "Provider_ID         0\n",
       "Service_Name        1\n",
       "Base_Name           2\n",
       "State               0\n",
       "City                2\n",
       "Zip                 3\n",
       "Location_Type       2\n",
       "RW                159\n",
       "FW                900\n",
       "NPIAS             498\n",
       "Level1           1064\n",
       "dtype: int64"
      ]
     },
     "execution_count": 8,
     "metadata": {},
     "output_type": "execute_result"
    }
   ],
   "source": [
    "#Check for the no.of records, columns and null values\n",
    "\n",
    "print('Number of instances = %d\\nNumber of attributes = %d' % (df.shape[0], df.shape[1]))\n",
    "print('------------------------------')\n",
    "print('Columns           Null Values')\n",
    "df.isnull().sum() "
   ]
  },
  {
   "cell_type": "code",
   "execution_count": 9,
   "metadata": {},
   "outputs": [
    {
     "data": {
      "text/plain": [
       "Aircraft_Type    object\n",
       "Provider_ID      object\n",
       "Service_Name     object\n",
       "Base_Name        object\n",
       "State            object\n",
       "City             object\n",
       "Zip              object\n",
       "Location_Type    object\n",
       "RW               object\n",
       "FW               object\n",
       "NPIAS            object\n",
       "Level1           object\n",
       "dtype: object"
      ]
     },
     "execution_count": 9,
     "metadata": {},
     "output_type": "execute_result"
    }
   ],
   "source": [
    "#Check for the various column datatypes\n",
    "\n",
    "df.dtypes"
   ]
  },
  {
   "cell_type": "code",
   "execution_count": 10,
   "metadata": {},
   "outputs": [],
   "source": [
    "#Replace incorrect spellings with appropriate values for the column, 'Location_Type'\n",
    "\n",
    "df['Location_Type'] = df['Location_Type'].replace(['Airport *','Airpport'],'Airport')"
   ]
  },
  {
   "cell_type": "code",
   "execution_count": 11,
   "metadata": {},
   "outputs": [],
   "source": [
    "#Check for the updated changes\n",
    "\n",
    "df.to_csv(\"adams_cleaned1.csv\", index = False)"
   ]
  },
  {
   "cell_type": "code",
   "execution_count": 12,
   "metadata": {},
   "outputs": [
    {
     "data": {
      "text/plain": [
       "[795, 798]"
      ]
     },
     "execution_count": 12,
     "metadata": {},
     "output_type": "execute_result"
    }
   ],
   "source": [
    "#Check for the missing value records in the column, 'Base_Name'\n",
    "\n",
    "df[df['Base_Name'].isnull()].index.tolist()"
   ]
  },
  {
   "cell_type": "code",
   "execution_count": 13,
   "metadata": {},
   "outputs": [
    {
     "data": {
      "text/html": [
       "<div>\n",
       "<style scoped>\n",
       "    .dataframe tbody tr th:only-of-type {\n",
       "        vertical-align: middle;\n",
       "    }\n",
       "\n",
       "    .dataframe tbody tr th {\n",
       "        vertical-align: top;\n",
       "    }\n",
       "\n",
       "    .dataframe thead th {\n",
       "        text-align: right;\n",
       "    }\n",
       "</style>\n",
       "<table border=\"1\" class=\"dataframe\">\n",
       "  <thead>\n",
       "    <tr style=\"text-align: right;\">\n",
       "      <th></th>\n",
       "      <th>Aircraft_Type</th>\n",
       "      <th>Provider_ID</th>\n",
       "      <th>Service_Name</th>\n",
       "      <th>Base_Name</th>\n",
       "      <th>State</th>\n",
       "      <th>City</th>\n",
       "      <th>Zip</th>\n",
       "      <th>Location_Type</th>\n",
       "      <th>RW</th>\n",
       "      <th>FW</th>\n",
       "      <th>NPIAS</th>\n",
       "      <th>Level1</th>\n",
       "    </tr>\n",
       "  </thead>\n",
       "  <tbody>\n",
       "    <tr>\n",
       "      <th>795</th>\n",
       "      <td>RW</td>\n",
       "      <td>PA011</td>\n",
       "      <td>MidAtlantic MedEvac</td>\n",
       "      <td>NaN</td>\n",
       "      <td>PA</td>\n",
       "      <td>NaN</td>\n",
       "      <td>NaN</td>\n",
       "      <td>NaN</td>\n",
       "      <td>NaN</td>\n",
       "      <td>NaN</td>\n",
       "      <td>NaN</td>\n",
       "      <td>NaN</td>\n",
       "    </tr>\n",
       "    <tr>\n",
       "      <th>798</th>\n",
       "      <td>RW</td>\n",
       "      <td>KS005</td>\n",
       "      <td>Midwest AeroCare</td>\n",
       "      <td>NaN</td>\n",
       "      <td>KS</td>\n",
       "      <td>NaN</td>\n",
       "      <td>NaN</td>\n",
       "      <td>Non- Base</td>\n",
       "      <td>1#</td>\n",
       "      <td>NaN</td>\n",
       "      <td>NaN</td>\n",
       "      <td>NaN</td>\n",
       "    </tr>\n",
       "  </tbody>\n",
       "</table>\n",
       "</div>"
      ],
      "text/plain": [
       "    Aircraft_Type Provider_ID         Service_Name Base_Name State City  Zip  \\\n",
       "795            RW       PA011  MidAtlantic MedEvac       NaN    PA  NaN  NaN   \n",
       "798            RW       KS005     Midwest AeroCare       NaN    KS  NaN  NaN   \n",
       "\n",
       "    Location_Type   RW   FW NPIAS Level1  \n",
       "795           NaN  NaN  NaN   NaN    NaN  \n",
       "798     Non- Base   1#  NaN   NaN    NaN  "
      ]
     },
     "execution_count": 13,
     "metadata": {},
     "output_type": "execute_result"
    }
   ],
   "source": [
    "df.loc[[795, 798]]\n"
   ]
  },
  {
   "cell_type": "code",
   "execution_count": 14,
   "metadata": {},
   "outputs": [],
   "source": [
    "#Drop the null value records for 'Base_Name' since majority of the values in the record contains null values\n",
    "\n",
    "df=df.drop([795, 798])"
   ]
  },
  {
   "cell_type": "code",
   "execution_count": 15,
   "metadata": {},
   "outputs": [
    {
     "name": "stdout",
     "output_type": "stream",
     "text": [
      "Columns           Null Values\n"
     ]
    },
    {
     "data": {
      "text/plain": [
       "Aircraft_Type       0\n",
       "Provider_ID         0\n",
       "Service_Name        1\n",
       "Base_Name           0\n",
       "State               0\n",
       "City                0\n",
       "Zip                 1\n",
       "Location_Type       1\n",
       "RW                158\n",
       "FW                898\n",
       "NPIAS             496\n",
       "Level1           1062\n",
       "dtype: int64"
      ]
     },
     "execution_count": 15,
     "metadata": {},
     "output_type": "execute_result"
    }
   ],
   "source": [
    "#Check for null values in remaining columns\n",
    "\n",
    "print('Columns           Null Values')\n",
    "df.isnull().sum() "
   ]
  },
  {
   "cell_type": "code",
   "execution_count": 16,
   "metadata": {},
   "outputs": [
    {
     "data": {
      "text/plain": [
       "[625]"
      ]
     },
     "execution_count": 16,
     "metadata": {},
     "output_type": "execute_result"
    }
   ],
   "source": [
    "#Identify the records containing null value in the column, 'Zip'\n",
    "\n",
    "df[df['Zip'].isnull()].index.tolist()"
   ]
  },
  {
   "cell_type": "code",
   "execution_count": 17,
   "metadata": {},
   "outputs": [
    {
     "data": {
      "text/html": [
       "<div>\n",
       "<style scoped>\n",
       "    .dataframe tbody tr th:only-of-type {\n",
       "        vertical-align: middle;\n",
       "    }\n",
       "\n",
       "    .dataframe tbody tr th {\n",
       "        vertical-align: top;\n",
       "    }\n",
       "\n",
       "    .dataframe thead th {\n",
       "        text-align: right;\n",
       "    }\n",
       "</style>\n",
       "<table border=\"1\" class=\"dataframe\">\n",
       "  <thead>\n",
       "    <tr style=\"text-align: right;\">\n",
       "      <th></th>\n",
       "      <th>Aircraft_Type</th>\n",
       "      <th>Provider_ID</th>\n",
       "      <th>Service_Name</th>\n",
       "      <th>Base_Name</th>\n",
       "      <th>State</th>\n",
       "      <th>City</th>\n",
       "      <th>Zip</th>\n",
       "      <th>Location_Type</th>\n",
       "      <th>RW</th>\n",
       "      <th>FW</th>\n",
       "      <th>NPIAS</th>\n",
       "      <th>Level1</th>\n",
       "    </tr>\n",
       "  </thead>\n",
       "  <tbody>\n",
       "    <tr>\n",
       "      <th>625</th>\n",
       "      <td>RW</td>\n",
       "      <td>PA004</td>\n",
       "      <td>LifeFlight (Allegheny General Hospital)</td>\n",
       "      <td>Clarion Hospital</td>\n",
       "      <td>PA</td>\n",
       "      <td>Clarion</td>\n",
       "      <td>NaN</td>\n",
       "      <td>NaN</td>\n",
       "      <td>1</td>\n",
       "      <td>NaN</td>\n",
       "      <td>NaN</td>\n",
       "      <td>NaN</td>\n",
       "    </tr>\n",
       "  </tbody>\n",
       "</table>\n",
       "</div>"
      ],
      "text/plain": [
       "    Aircraft_Type Provider_ID                             Service_Name  \\\n",
       "625            RW       PA004  LifeFlight (Allegheny General Hospital)   \n",
       "\n",
       "            Base_Name State     City  Zip Location_Type RW   FW NPIAS Level1  \n",
       "625  Clarion Hospital    PA  Clarion  NaN           NaN  1  NaN   NaN    NaN  "
      ]
     },
     "execution_count": 17,
     "metadata": {},
     "output_type": "execute_result"
    }
   ],
   "source": [
    "df.loc[[625]]"
   ]
  },
  {
   "cell_type": "code",
   "execution_count": 18,
   "metadata": {},
   "outputs": [],
   "source": [
    "#Replace the null value in 'Zip', using 'City' and 'State' information\n",
    "\n",
    "df[\"Zip\"].fillna(16214, inplace=True)"
   ]
  },
  {
   "cell_type": "code",
   "execution_count": 19,
   "metadata": {},
   "outputs": [
    {
     "data": {
      "text/html": [
       "<div>\n",
       "<style scoped>\n",
       "    .dataframe tbody tr th:only-of-type {\n",
       "        vertical-align: middle;\n",
       "    }\n",
       "\n",
       "    .dataframe tbody tr th {\n",
       "        vertical-align: top;\n",
       "    }\n",
       "\n",
       "    .dataframe thead th {\n",
       "        text-align: right;\n",
       "    }\n",
       "</style>\n",
       "<table border=\"1\" class=\"dataframe\">\n",
       "  <thead>\n",
       "    <tr style=\"text-align: right;\">\n",
       "      <th></th>\n",
       "      <th>Aircraft_Type</th>\n",
       "      <th>Provider_ID</th>\n",
       "      <th>Service_Name</th>\n",
       "      <th>Base_Name</th>\n",
       "      <th>State</th>\n",
       "      <th>City</th>\n",
       "      <th>Zip</th>\n",
       "      <th>Location_Type</th>\n",
       "      <th>RW</th>\n",
       "      <th>FW</th>\n",
       "      <th>NPIAS</th>\n",
       "      <th>Level1</th>\n",
       "    </tr>\n",
       "  </thead>\n",
       "  <tbody>\n",
       "    <tr>\n",
       "      <th>625</th>\n",
       "      <td>RW</td>\n",
       "      <td>PA004</td>\n",
       "      <td>LifeFlight (Allegheny General Hospital)</td>\n",
       "      <td>Clarion Hospital</td>\n",
       "      <td>PA</td>\n",
       "      <td>Clarion</td>\n",
       "      <td>16214</td>\n",
       "      <td>NaN</td>\n",
       "      <td>1</td>\n",
       "      <td>NaN</td>\n",
       "      <td>NaN</td>\n",
       "      <td>NaN</td>\n",
       "    </tr>\n",
       "  </tbody>\n",
       "</table>\n",
       "</div>"
      ],
      "text/plain": [
       "    Aircraft_Type Provider_ID                             Service_Name  \\\n",
       "625            RW       PA004  LifeFlight (Allegheny General Hospital)   \n",
       "\n",
       "            Base_Name State     City    Zip Location_Type RW   FW NPIAS Level1  \n",
       "625  Clarion Hospital    PA  Clarion  16214           NaN  1  NaN   NaN    NaN  "
      ]
     },
     "execution_count": 19,
     "metadata": {},
     "output_type": "execute_result"
    }
   ],
   "source": [
    "#Check for the updated changes\n",
    "\n",
    "df.loc[[625]]"
   ]
  },
  {
   "cell_type": "code",
   "execution_count": 20,
   "metadata": {},
   "outputs": [
    {
     "data": {
      "text/plain": [
       "Airport      626\n",
       "Hospital     312\n",
       "Helipad      162\n",
       "Office         6\n",
       "Non- Base      1\n",
       "Name: Location_Type, dtype: int64"
      ]
     },
     "execution_count": 20,
     "metadata": {},
     "output_type": "execute_result"
    }
   ],
   "source": [
    "#Count for each group in 'Location_Type'\n",
    "\n",
    "df.Location_Type.value_counts()"
   ]
  },
  {
   "cell_type": "code",
   "execution_count": 21,
   "metadata": {},
   "outputs": [],
   "source": [
    "#Replace null value in 'Location_Type' with 'Airport' value, since the value for Airport is the highest\n",
    "\n",
    "df[\"Location_Type\"].fillna('Airport', inplace=True)"
   ]
  },
  {
   "cell_type": "code",
   "execution_count": 22,
   "metadata": {},
   "outputs": [
    {
     "data": {
      "image/png": "[encoded data removed]",
      "text/plain": [
       "<Figure size 576x576 with 1 Axes>"
      ]
     },
     "metadata": {
      "needs_background": "light"
     },
     "output_type": "display_data"
    }
   ],
   "source": [
    "#Plot a bar graph for counting each group in 'Location_Type'\n",
    "\n",
    "ax1=df.Location_Type.value_counts().plot(kind = 'bar', \n",
    "                                    color = 'orange',\n",
    "                                    figsize = (8,8))\n",
    "for rect in ax1.patches:\n",
    "    height = rect.get_height()\n",
    "    ax1.text(rect.get_x() + rect.get_width()/2., 1.00*height,\n",
    "                '%d' % int(height),\n",
    "              ha='center',va='bottom',fontweight= 'bold')\n",
    "\n",
    "ax1.set_title('Count of Location Types', fontweight='bold')\n",
    "plt.xlabel('Location Type')\n",
    "plt.ylabel('Location type Count')\n",
    "plt.show()"
   ]
  },
  {
   "cell_type": "code",
   "execution_count": 23,
   "metadata": {},
   "outputs": [
    {
     "name": "stdout",
     "output_type": "stream",
     "text": [
      "Columns           Null Values\n"
     ]
    },
    {
     "data": {
      "text/plain": [
       "Aircraft_Type       0\n",
       "Provider_ID         0\n",
       "Service_Name        1\n",
       "Base_Name           0\n",
       "State               0\n",
       "City                0\n",
       "Zip                 0\n",
       "Location_Type       0\n",
       "RW                158\n",
       "FW                898\n",
       "NPIAS             496\n",
       "Level1           1062\n",
       "dtype: int64"
      ]
     },
     "execution_count": 23,
     "metadata": {},
     "output_type": "execute_result"
    }
   ],
   "source": [
    "#Check for null values in remaining columns\n",
    "\n",
    "print('Columns           Null Values')\n",
    "df.isnull().sum()"
   ]
  },
  {
   "cell_type": "code",
   "execution_count": 24,
   "metadata": {},
   "outputs": [
    {
     "data": {
      "text/plain": [
       "[1109]"
      ]
     },
     "execution_count": 24,
     "metadata": {},
     "output_type": "execute_result"
    }
   ],
   "source": [
    "#Identify records containing null values in column, 'Service_Name'\n",
    "\n",
    "df[df['Service_Name'].isnull()].index.tolist()"
   ]
  },
  {
   "cell_type": "code",
   "execution_count": 25,
   "metadata": {},
   "outputs": [
    {
     "data": {
      "text/html": [
       "<div>\n",
       "<style scoped>\n",
       "    .dataframe tbody tr th:only-of-type {\n",
       "        vertical-align: middle;\n",
       "    }\n",
       "\n",
       "    .dataframe tbody tr th {\n",
       "        vertical-align: top;\n",
       "    }\n",
       "\n",
       "    .dataframe thead th {\n",
       "        text-align: right;\n",
       "    }\n",
       "</style>\n",
       "<table border=\"1\" class=\"dataframe\">\n",
       "  <thead>\n",
       "    <tr style=\"text-align: right;\">\n",
       "      <th></th>\n",
       "      <th>Aircraft_Type</th>\n",
       "      <th>Provider_ID</th>\n",
       "      <th>Service_Name</th>\n",
       "      <th>Base_Name</th>\n",
       "      <th>State</th>\n",
       "      <th>City</th>\n",
       "      <th>Zip</th>\n",
       "      <th>Location_Type</th>\n",
       "      <th>RW</th>\n",
       "      <th>FW</th>\n",
       "      <th>NPIAS</th>\n",
       "      <th>Level1</th>\n",
       "    </tr>\n",
       "  </thead>\n",
       "  <tbody>\n",
       "    <tr>\n",
       "      <th>1109</th>\n",
       "      <td>RW</td>\n",
       "      <td>TX011</td>\n",
       "      <td>NaN</td>\n",
       "      <td>Rick Husband Amarillo International Airport</td>\n",
       "      <td>TX</td>\n",
       "      <td>Amarillo</td>\n",
       "      <td>79108</td>\n",
       "      <td>Airport</td>\n",
       "      <td>NaN</td>\n",
       "      <td>1</td>\n",
       "      <td>N</td>\n",
       "      <td>NaN</td>\n",
       "    </tr>\n",
       "  </tbody>\n",
       "</table>\n",
       "</div>"
      ],
      "text/plain": [
       "     Aircraft_Type Provider_ID Service_Name  \\\n",
       "1109            RW       TX011          NaN   \n",
       "\n",
       "                                        Base_Name State      City    Zip  \\\n",
       "1109  Rick Husband Amarillo International Airport    TX  Amarillo  79108   \n",
       "\n",
       "     Location_Type   RW FW NPIAS Level1  \n",
       "1109       Airport  NaN  1     N    NaN  "
      ]
     },
     "execution_count": 25,
     "metadata": {},
     "output_type": "execute_result"
    }
   ],
   "source": [
    "df.loc[[1109]]"
   ]
  },
  {
   "cell_type": "code",
   "execution_count": 26,
   "metadata": {},
   "outputs": [
    {
     "data": {
      "text/plain": [
       "EagleMed, LLC    1\n",
       "Name: Service_Name, dtype: int64"
      ]
     },
     "execution_count": 26,
     "metadata": {},
     "output_type": "execute_result"
    }
   ],
   "source": [
    "#Extract values and count for 'Service_Name' through records containing\n",
    "#'State', 'City' and 'Zip' values from the above obtained record\n",
    "\n",
    "servData = df[(df.State == 'TX') & (df.City == 'Amarillo') & \n",
    "              (df.Zip == '79108') & (df.Service_Name!='')].Service_Name.value_counts().sort_values(ascending=False)\n",
    "servData"
   ]
  },
  {
   "cell_type": "code",
   "execution_count": 27,
   "metadata": {},
   "outputs": [],
   "source": [
    "#Replace null value with value from above identified record\n",
    "\n",
    "df[\"Service_Name\"].fillna('EagleMed, LLC', inplace=True)"
   ]
  },
  {
   "cell_type": "code",
   "execution_count": 28,
   "metadata": {},
   "outputs": [
    {
     "name": "stdout",
     "output_type": "stream",
     "text": [
      "Columns           Null Values\n"
     ]
    },
    {
     "data": {
      "text/plain": [
       "Aircraft_Type       0\n",
       "Provider_ID         0\n",
       "Service_Name        0\n",
       "Base_Name           0\n",
       "State               0\n",
       "City                0\n",
       "Zip                 0\n",
       "Location_Type       0\n",
       "RW                158\n",
       "FW                898\n",
       "NPIAS             496\n",
       "Level1           1062\n",
       "dtype: int64"
      ]
     },
     "execution_count": 28,
     "metadata": {},
     "output_type": "execute_result"
    }
   ],
   "source": [
    "#Check for null values in remaining columns\n",
    "\n",
    "print('Columns           Null Values')\n",
    "df.isnull().sum()"
   ]
  },
  {
   "cell_type": "code",
   "execution_count": 29,
   "metadata": {},
   "outputs": [],
   "source": [
    "#Replace null value in 'Level1' with 'N', as all other records have value, 'Y'\n",
    "\n",
    "df[\"Level1\"].fillna('N', inplace=True)"
   ]
  },
  {
   "cell_type": "code",
   "execution_count": 30,
   "metadata": {},
   "outputs": [
    {
     "data": {
      "image/png": "[encoded data removed]",
      "text/plain": [
       "<Figure size 576x576 with 1 Axes>"
      ]
     },
     "metadata": {
      "needs_background": "light"
     },
     "output_type": "display_data"
    }
   ],
   "source": [
    "#Plot a bar graph for counting airports that do and don't fall under NPIAS\n",
    "\n",
    "ax2=df.NPIAS.value_counts().plot(kind = 'bar', \n",
    "                                 color = 'GREEN',\n",
    "                                 rot='horizontal',\n",
    "                                 figsize = (8,8))\n",
    "for rect in ax2.patches:\n",
    "    height = rect.get_height()\n",
    "    ax2.text(rect.get_x() + rect.get_width()/2., 1.00*height,\n",
    "                '%d' % int(height),\n",
    "              ha='center',va='bottom',fontweight= 'bold')\n",
    "ax2.set_title('Total Airports with & without \"National Plan of Integrated Airport Systems (NPIAS)\"', fontweight='bold')\n",
    "plt.xlabel('NPIAS')\n",
    "plt.ylabel('Count of Airports with & without NPIAS')\n",
    "plt.show()"
   ]
  },
  {
   "cell_type": "code",
   "execution_count": 31,
   "metadata": {},
   "outputs": [],
   "source": [
    "#We identify that there are 2 values for 'yes' in column 'NPIAS'\n",
    "#Replace 'y' with 'Y' in 'NPIAS' column\n",
    "\n",
    "df['NPIAS'] = df['NPIAS'].replace(['y'],'Y')"
   ]
  },
  {
   "cell_type": "code",
   "execution_count": 32,
   "metadata": {},
   "outputs": [
    {
     "data": {
      "image/png": "[encoded data removed]",
      "text/plain": [
       "<Figure size 576x576 with 1 Axes>"
      ]
     },
     "metadata": {
      "needs_background": "light"
     },
     "output_type": "display_data"
    }
   ],
   "source": [
    "#Plot a bar graph again to count airports that do and don't fall under NPIAS\n",
    "\n",
    "ax2=df.NPIAS.value_counts().plot(kind = 'bar', \n",
    "                                 color = 'GREEN',\n",
    "                                 rot='horizontal',\n",
    "                                 figsize = (8,8))\n",
    "for rect in ax2.patches:\n",
    "    height = rect.get_height()\n",
    "    ax2.text(rect.get_x() + rect.get_width()/2., 1.00*height,\n",
    "                '%d' % int(height),\n",
    "              ha='center',va='bottom',fontweight= 'bold')\n",
    "ax2.set_title('Total Airports with & without \"National Plan of Integrated Airport Systems (NPIAS)\"', fontweight='bold')\n",
    "plt.xlabel('NPIAS')\n",
    "plt.ylabel('Count of Airports with & without NPIAS')\n",
    "plt.show()"
   ]
  },
  {
   "cell_type": "code",
   "execution_count": 33,
   "metadata": {},
   "outputs": [
    {
     "data": {
      "image/png": "[encoded data removed]",
      "text/plain": [
       "<Figure size 576x576 with 1 Axes>"
      ]
     },
     "metadata": {
      "needs_background": "light"
     },
     "output_type": "display_data"
    }
   ],
   "source": [
    "#Plot a bar graph for counting total no. of different aircrafts\n",
    "\n",
    "ax3=df.Aircraft_Type.value_counts().plot(kind = 'bar', \n",
    "                                    color = 'blue',\n",
    "                                    rot='horizontal',\n",
    "                                    figsize = (8,8))\n",
    "for rect in ax3.patches:\n",
    "    height = rect.get_height()\n",
    "    ax3.text(rect.get_x() + rect.get_width()/2., 1.00*height,\n",
    "                '%d' % int(height),\n",
    "              ha='center',va='bottom',fontweight= 'bold')\n",
    "ax3.set_title('Total number of Rotary-Wing(helicopters) and Flight-Wing(airplanes)', fontweight='bold')\n",
    "plt.xlabel('Aircraft Type')\n",
    "plt.ylabel('Count of Aircrafts')\n",
    "plt.show()"
   ]
  },
  {
   "cell_type": "code",
   "execution_count": 34,
   "metadata": {},
   "outputs": [
    {
     "data": {
      "image/png": "[encoded data removed]",
      "text/plain": [
       "<Figure size 576x576 with 1 Axes>"
      ]
     },
     "metadata": {
      "needs_background": "light"
     },
     "output_type": "display_data"
    }
   ],
   "source": [
    "# Plot a horizontal Stacked bar chart for total no.of different aircrafts based on location type\n",
    "\n",
    "ax4 = df[['Aircraft_Type','Location_Type']].groupby(['Location_Type','Aircraft_Type']).size().unstack().sort_values(by='Location_Type',\n",
    "                                                                                                                   ascending=False)\n",
    "ax4.plot(kind = 'barh', stacked = True, rot='horizontal',\n",
    "       title='Total Rotary-Wing(helicopters) and Flight-Wing(airplanes) based on the location',\n",
    "       figsize = (8,8))\n",
    "plt.xlabel('Count of Aircrafts')\n",
    "plt.ylabel('Location Type')\n",
    "plt.legend(loc='lower right', frameon=False)\n",
    "plt.show()"
   ]
  },
  {
   "cell_type": "code",
   "execution_count": 35,
   "metadata": {},
   "outputs": [],
   "source": [
    "#Save the cleaned dataset to a csv file\n",
    "\n",
    "df.to_csv(\"adams_cleaned_final.csv\", index = False)"
   ]
  },
  {
   "cell_type": "code",
   "execution_count": null,
   "metadata": {},
   "outputs": [],
   "source": []
  },
  {
   "cell_type": "code",
   "execution_count": null,
   "metadata": {},
   "outputs": [],
   "source": []
  },
  {
   "cell_type": "code",
   "execution_count": null,
   "metadata": {},
   "outputs": [],
   "source": []
  }
 ],
 "metadata": {
  "kernelspec": {
   "display_name": "Python 3",
   "language": "python",
   "name": "python3"
  },
  "language_info": {
   "codemirror_mode": {
    "name": "ipython",
    "version": 3
   },
   "file_extension": ".py",
   "mimetype": "text/x-python",
   "name": "python",
   "nbconvert_exporter": "python",
   "pygments_lexer": "ipython3",
   "version": "3.7.6"
  }
 },
 "nbformat": 4,
 "nbformat_minor": 4
}
